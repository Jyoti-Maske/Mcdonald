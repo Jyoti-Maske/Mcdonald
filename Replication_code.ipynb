{
 "cells": [
  {
   "cell_type": "code",
   "execution_count": 2,
   "id": "a3c06071",
   "metadata": {},
   "outputs": [
    {
     "name": "stdout",
     "output_type": "stream",
     "text": [
      "     yummy convenient spicy fattening greasy fast cheap tasty expensive  \\\n",
      "0       No        Yes    No       Yes     No  Yes   Yes    No       Yes   \n",
      "1      Yes        Yes    No       Yes    Yes  Yes   Yes   Yes       Yes   \n",
      "2       No        Yes   Yes       Yes    Yes  Yes    No   Yes       Yes   \n",
      "3      Yes        Yes    No       Yes    Yes  Yes   Yes   Yes        No   \n",
      "4       No        Yes    No       Yes    Yes  Yes   Yes    No        No   \n",
      "...    ...        ...   ...       ...    ...  ...   ...   ...       ...   \n",
      "1448    No        Yes    No       Yes    Yes   No    No    No       Yes   \n",
      "1449   Yes        Yes    No       Yes     No   No   Yes   Yes        No   \n",
      "1450   Yes        Yes    No       Yes     No  Yes    No   Yes       Yes   \n",
      "1451   Yes        Yes    No        No     No  Yes   Yes   Yes        No   \n",
      "1452    No        Yes    No       Yes    Yes   No    No    No       Yes   \n",
      "\n",
      "     healthy disgusting          Like  Age      VisitFrequency  Gender  \n",
      "0         No         No            -3   61  Every three months  Female  \n",
      "1         No         No             2   51  Every three months  Female  \n",
      "2        Yes         No             1   62  Every three months  Female  \n",
      "3         No        Yes             4   69         Once a week  Female  \n",
      "4        Yes         No             2   49        Once a month    Male  \n",
      "...      ...        ...           ...  ...                 ...     ...  \n",
      "1448      No        Yes  I hate it!-5   47         Once a year    Male  \n",
      "1449     Yes         No             2   36         Once a week  Female  \n",
      "1450      No         No             3   52        Once a month  Female  \n",
      "1451     Yes         No             4   41  Every three months    Male  \n",
      "1452      No        Yes            -3   30  Every three months    Male  \n",
      "\n",
      "[1453 rows x 15 columns]\n"
     ]
    }
   ],
   "source": [
    "import pandas as pd\n",
    "\n",
    "# Load the CSV file into a DataFrame\n",
    "file = pd.read_csv('Mcdonald.csv')\n",
    "\n",
    "print(file)"
   ]
  },
  {
   "cell_type": "code",
   "execution_count": 3,
   "id": "2cf86753",
   "metadata": {},
   "outputs": [
    {
     "data": {
      "text/plain": [
       "'C:\\\\Users\\\\RAHUL\\\\Mcdonald\\\\Mcdonald.csv'"
      ]
     },
     "execution_count": 3,
     "metadata": {},
     "output_type": "execute_result"
    }
   ],
   "source": [
    "import shutil\n",
    "import os\n",
    "\n",
    "# Assuming Mcdcsv is the path to the CSV file\n",
    "file = r'C:\\Users\\RAHUL\\Desktop\\Mcdonald.csv'\n",
    "\n",
    "# Copy the file to the current directory\n",
    "shutil.copy(file, os.getcwd())"
   ]
  },
  {
   "cell_type": "code",
   "execution_count": 7,
   "id": "50ab99b3",
   "metadata": {},
   "outputs": [
    {
     "name": "stdout",
     "output_type": "stream",
     "text": [
      "Column Names:\n",
      "['yummy', 'convenient', 'spicy', 'fattening', 'greasy', 'fast', 'cheap', 'tasty', 'expensive', 'healthy', 'disgusting', 'Like', 'Age', 'VisitFrequency', 'Gender']\n",
      "\n",
      "Dimensions (rows, columns):\n",
      "(1453, 15)\n"
     ]
    }
   ],
   "source": [
    "import pandas as pd\n",
    "\n",
    "# Load the data into a DataFrame\n",
    "file_path = 'path/to/your/file.csv'  # Update this to your actual file path\n",
    "file = pd.read_csv(\"Mcdonald.csv\")  # Read the CSV file into a DataFrame\n",
    "\n",
    "# Get the column names\n",
    "column_names = file.columns.tolist()\n",
    "print(\"Column Names:\")\n",
    "print(column_names)\n",
    "\n",
    "# Get the dimensions of the DataFrame\n",
    "dimensions = file.shape\n",
    "print(\"\\nDimensions (rows, columns):\")\n",
    "print(dimensions)"
   ]
  },
  {
   "cell_type": "code",
   "execution_count": 8,
   "id": "4b378287",
   "metadata": {},
   "outputs": [
    {
     "name": "stdout",
     "output_type": "stream",
     "text": [
      "       yummy convenient fattening greasy\n",
      "count   1453       1453      1453   1453\n",
      "unique     2          2         2      2\n",
      "top      Yes        Yes       Yes    Yes\n",
      "freq     803       1319      1260    765\n",
      "\n",
      "Value counts for yummy:\n",
      "Yes    803\n",
      "No     650\n",
      "Name: yummy, dtype: int64\n",
      "\n",
      "Value counts for convenient:\n",
      "Yes    1319\n",
      "No      134\n",
      "Name: convenient, dtype: int64\n",
      "\n",
      "Value counts for fattening:\n",
      "Yes    1260\n",
      "No      193\n",
      "Name: fattening, dtype: int64\n",
      "\n",
      "Value counts for greasy:\n",
      "Yes    765\n",
      "No     688\n",
      "Name: greasy, dtype: int64\n"
     ]
    }
   ],
   "source": [
    "# Select specific columns (Gender, Age, Income, Income2)\n",
    "selected_columns =file.iloc[:, [0, 1, 3, 4]]\n",
    "\n",
    "# Get summary statistics for the selected columns\n",
    "summary = selected_columns.describe(include='all')\n",
    "\n",
    "# Display the summary\n",
    "print(summary)\n",
    "\n",
    "# Additional information for categorical columns\n",
    "for col in selected_columns.select_dtypes(include=['object']).columns:\n",
    "    print(f\"\\nValue counts for {col}:\")\n",
    "    print(selected_columns[col].value_counts())"
   ]
  },
  {
   "cell_type": "code",
   "execution_count": 9,
   "id": "2e974202",
   "metadata": {},
   "outputs": [
    {
     "name": "stdout",
     "output_type": "stream",
     "text": [
      "Column names: ['yummy', 'convenient', 'spicy', 'fattening', 'greasy', 'fast', 'cheap', 'tasty', 'expensive', 'healthy', 'disgusting', 'Like', 'Age', 'VisitFrequency', 'Gender']\n"
     ]
    }
   ],
   "source": [
    "# Print the column names to check for 'Income2'\n",
    "print(\"Column names:\",file.columns.tolist())"
   ]
  },
  {
   "cell_type": "code",
   "execution_count": 10,
   "id": "a5b1b90e",
   "metadata": {},
   "outputs": [
    {
     "name": "stdout",
     "output_type": "stream",
     "text": [
      "  yummy convenient spicy fattening greasy fast cheap tasty expensive healthy  \\\n",
      "0    No        Yes    No       Yes     No  Yes   Yes    No       Yes      No   \n",
      "1   Yes        Yes    No       Yes    Yes  Yes   Yes   Yes       Yes      No   \n",
      "2    No        Yes   Yes       Yes    Yes  Yes    No   Yes       Yes     Yes   \n",
      "3   Yes        Yes    No       Yes    Yes  Yes   Yes   Yes        No      No   \n",
      "4    No        Yes    No       Yes    Yes  Yes   Yes    No        No     Yes   \n",
      "\n",
      "  disgusting Like  Age      VisitFrequency  Gender  \n",
      "0         No   -3   61  Every three months  Female  \n",
      "1         No    2   51  Every three months  Female  \n",
      "2         No    1   62  Every three months  Female  \n",
      "3        Yes    4   69         Once a week  Female  \n",
      "4         No    2   49        Once a month    Male  \n"
     ]
    }
   ],
   "source": [
    "# Display the first few rows of the DataFrame\n",
    "print(file.head())"
   ]
  },
  {
   "cell_type": "code",
   "execution_count": 11,
   "id": "a6fa6479",
   "metadata": {},
   "outputs": [],
   "source": [
    "# Strip whitespace from column names\n",
    "file.columns =file.columns.str.strip()"
   ]
  },
  {
   "cell_type": "code",
   "execution_count": 13,
   "id": "785b0ec5",
   "metadata": {},
   "outputs": [
    {
     "name": "stdout",
     "output_type": "stream",
     "text": [
      "Column names after stripping: ['yummy', 'convenient', 'spicy', 'fattening', 'greasy', 'fast', 'cheap', 'tasty', 'expensive', 'healthy', 'disgusting', 'Like', 'Age', 'VisitFrequency', 'Gender']\n",
      "Error: 'Income2' column not found.\n"
     ]
    }
   ],
   "source": [
    "#Check again after stripping\n",
    "print(\"Column names after stripping:\",file.columns.tolist())\n",
    "\n",
    "# Extract the Income2 column\n",
    "try:\n",
    "    inc2 =file['Income2']\n",
    "    print(\"Income2 column extracted successfully.\")\n",
    "except KeyError:\n",
    "    print(\"Error: 'Income2' column not found.\")"
   ]
  },
  {
   "cell_type": "code",
   "execution_count": 14,
   "id": "451b1226",
   "metadata": {},
   "outputs": [
    {
     "name": "stdout",
     "output_type": "stream",
     "text": [
      "Index(['yummy', 'convenient', 'spicy', 'fattening', 'greasy', 'fast', 'cheap',\n",
      "       'tasty', 'expensive', 'healthy', 'disgusting', 'Like', 'Age',\n",
      "       'VisitFrequency', 'Gender'],\n",
      "      dtype='object')\n"
     ]
    }
   ],
   "source": [
    "print(file.columns)"
   ]
  },
  {
   "cell_type": "code",
   "execution_count": 16,
   "id": "b444f02b",
   "metadata": {},
   "outputs": [],
   "source": [
    "file.columns = file.columns.str.strip()"
   ]
  },
  {
   "cell_type": "code",
   "execution_count": 17,
   "id": "d833e53d",
   "metadata": {},
   "outputs": [
    {
     "name": "stdout",
     "output_type": "stream",
     "text": [
      "Column 'Income2' does not exist in the DataFrame.\n"
     ]
    }
   ],
   "source": [
    "if 'Income2' in file.columns:\n",
    "    contingency_table = pd.crosstab(index=file['Income2'], columns=inc2, rownames=['orig'], colnames=['new'])\n",
    "else:\n",
    "    print(\"Column 'Income2' does not exist in the DataFrame.\")"
   ]
  },
  {
   "cell_type": "code",
   "execution_count": 18,
   "id": "bc13aefc",
   "metadata": {},
   "outputs": [
    {
     "name": "stdout",
     "output_type": "stream",
     "text": [
      "   ID  Income2\n",
      "0   1        1\n",
      "1   2        2\n",
      "2   3        3\n",
      "3   4        4\n",
      "4   5        5\n"
     ]
    }
   ],
   "source": [
    "# Assuming inc2 is a Pandas Series or a list\n",
    "inc2 = [1, 2, 3, 4, 5]  # Example data\n",
    "\n",
    "# Create a DataFrame vac\n",
    "file = pd.DataFrame({'ID': range(1, 6)})\n",
    "\n",
    "# Assign inc2 to a new column Income2\n",
    "file['Income2'] = inc2\n",
    "\n",
    "# Display the DataFrame\n",
    "print(file)"
   ]
  },
  {
   "cell_type": "code",
   "execution_count": 19,
   "id": "ef2b1cb4",
   "metadata": {},
   "outputs": [
    {
     "data": {
      "image/png": "[encoded data removed]",
      "text/plain": [
       "<Figure size 432x288 with 1 Axes>"
      ]
     },
     "metadata": {
      "needs_background": "light"
     },
     "output_type": "display_data"
    }
   ],
   "source": [
    "import pandas as pd\n",
    "import matplotlib.pyplot as plt\n",
    "\n",
    "# Assuming 'vac' is your DataFrame and it contains an 'Age' column\n",
    "# Replace 'your_data.csv' with your actual data file\n",
    "vac = pd.read_csv('Mcdonald.csv')\n",
    "\n",
    "# Create a histogram of the Age column with density normalization\n",
    "plt.hist(vac['Age'], bins=50, density=True, edgecolor='black')\n",
    "plt.title('Histogram of Age')\n",
    "plt.xlabel('Age')\n",
    "plt.ylabel('Density')\n",
    "plt.show()"
   ]
  },
  {
   "cell_type": "code",
   "execution_count": 20,
   "id": "59dcf423",
   "metadata": {},
   "outputs": [
    {
     "name": "stdout",
     "output_type": "stream",
     "text": [
      "count    1453.000000\n",
      "mean       44.604955\n",
      "std        14.221178\n",
      "min        18.000000\n",
      "25%        33.000000\n",
      "50%        45.000000\n",
      "75%        57.000000\n",
      "max        71.000000\n",
      "Name: Age, dtype: float64\n"
     ]
    }
   ],
   "source": [
    "import pandas as pd\n",
    "\n",
    "\n",
    "file= pd.read_csv('Mcdonald.csv')\n",
    "\n",
    "# Calculate summary statistics for the Age column\n",
    "summary_stats =file['Age'].describe(percentiles=[.25, .5, .75])\n",
    "\n",
    "# Display the summary statistics\n",
    "print(summary_stats)"
   ]
  },
  {
   "cell_type": "code",
   "execution_count": 21,
   "id": "d86387f9",
   "metadata": {},
   "outputs": [
    {
     "data": {
      "image/png": "[encoded data removed]",
      "text/plain": [
       "<Figure size 432x288 with 1 Axes>"
      ]
     },
     "metadata": {
      "needs_background": "light"
     },
     "output_type": "display_data"
    }
   ],
   "source": [
    "import pandas as pd\n",
    "import matplotlib.pyplot as plt\n",
    "\n",
    "\n",
    "\n",
    "# Create a horizontal boxplot for the Age column\n",
    "plt.boxplot(file['Age'], vert=False)  # vert=False makes it horizontal\n",
    "plt.xlabel('Age')\n",
    "plt.title('Boxplot of Age')\n",
    "plt.show()"
   ]
  },
  {
   "cell_type": "code",
   "execution_count": 22,
   "id": "2fd3c620",
   "metadata": {},
   "outputs": [
    {
     "data": {
      "image/png": "[encoded data removed]",
      "text/plain": [
       "<Figure size 720x432 with 1 Axes>"
      ]
     },
     "metadata": {
      "needs_background": "light"
     },
     "output_type": "display_data"
    }
   ],
   "source": [
    "import pandas as pd\n",
    "import matplotlib.pyplot as plt\n",
    "\n",
    "\n",
    "# Calculate the percentage of \"yes\" responses for each column\n",
    "yes = 100 * (file.iloc[:, 12:32] == \"yes\").mean()\n",
    "\n",
    "# Sort the percentages\n",
    "yes_sorted = yes.sort_values()\n",
    "\n",
    "# Create a dot chart (using scatter plot for a similar effect)\n",
    "plt.figure(figsize=(10, 6))\n",
    "plt.scatter(yes_sorted.values, yes_sorted.index, color='blue')\n",
    "plt.xlabel(\"Percent 'yes'\")\n",
    "plt.xlim(0, 100)\n",
    "plt.title(\"Percentage of 'yes' Responses\")\n",
    "plt.grid(True)\n",
    "plt.show()"
   ]
  },
  {
   "cell_type": "code",
   "execution_count": 23,
   "id": "96b5dc0c",
   "metadata": {},
   "outputs": [
    {
     "name": "stdout",
     "output_type": "stream",
     "text": [
      "                 Income  Count\n",
      "0  $210,001 to $240,000     10\n",
      "1    more than $240,001     11\n",
      "2  $180,001 to $210,000     15\n",
      "3  $150,001 to $180,000     32\n",
      "4  $120,001 to $150,000     72\n",
      "5   $90,001 to $120,000    146\n",
      "6     Less than $30,000    150\n",
      "7    $60,001 to $90,000    233\n",
      "8    $30,001 to $60,000    265\n"
     ]
    }
   ],
   "source": [
    "# Create a DataFrame with the income categories and their counts\n",
    "data = {\n",
    "    'Income': [\n",
    "        '$210,001 to $240,000',\n",
    "        'more than $240,001',\n",
    "        '$180,001 to $210,000',\n",
    "        '$150,001 to $180,000',\n",
    "        '$120,001 to $150,000',\n",
    "        '$90,001 to $120,000',\n",
    "        'Less than $30,000',\n",
    "        '$60,001 to $90,000',\n",
    "        '$30,001 to $60,000'\n",
    "    ],\n",
    "    'Count': [10, 11, 15, 32, 72, 146, 150, 233, 265]\n",
    "}\n",
    "\n",
    "df = pd.DataFrame(data)\n",
    "\n",
    "# Sort the DataFrame by the 'Count' column\n",
    "sorted_df = df.sort_values(by='Count')\n",
    "\n",
    "# Display the sorted DataFrame\n",
    "print(sorted_df)"
   ]
  },
  {
   "cell_type": "code",
   "execution_count": 24,
   "id": "97fb9a8f",
   "metadata": {},
   "outputs": [
    {
     "name": "stdout",
     "output_type": "stream",
     "text": [
      "Requirement already satisfied: pandas in c:\\users\\rahul\\anaconda3\\lib\\site-packages (1.3.4)\n",
      "Requirement already satisfied: pytz>=2017.3 in c:\\users\\rahul\\anaconda3\\lib\\site-packages (from pandas) (2021.3)\n",
      "Requirement already satisfied: python-dateutil>=2.7.3 in c:\\users\\rahul\\anaconda3\\lib\\site-packages (from pandas) (2.8.2)\n",
      "Requirement already satisfied: numpy>=1.17.3 in c:\\users\\rahul\\anaconda3\\lib\\site-packages (from pandas) (1.20.3)\n",
      "Requirement already satisfied: six>=1.5 in c:\\users\\rahul\\anaconda3\\lib\\site-packages (from python-dateutil>=2.7.3->pandas) (1.16.0)\n",
      "Note: you may need to restart the kernel to use updated packages.\n"
     ]
    }
   ],
   "source": [
    "pip install pandas"
   ]
  },
  {
   "cell_type": "code",
   "execution_count": 25,
   "id": "92cd5910",
   "metadata": {},
   "outputs": [
    {
     "name": "stdout",
     "output_type": "stream",
     "text": [
      "    Income  Count\n",
      "0     <30k    150\n",
      "1   30-60k    265\n",
      "2   60-90k    233\n",
      "3  90-120k    146\n",
      "4    >120k    140\n"
     ]
    }
   ],
   "source": [
    "import pandas as pd\n",
    "\n",
    "# Create a DataFrame with the income categories and their counts\n",
    "data = {\n",
    "    'Income': ['<30k', '30-60k', '60-90k', '90-120k', '>120k'],\n",
    "    'Count': [150, 265, 233, 146, 140]\n",
    "}\n",
    "\n",
    "df= pd.DataFrame(data)\n",
    "\n",
    "# Display the DataFrame\n",
    "print(df)"
   ]
  },
  {
   "cell_type": "code",
   "execution_count": 26,
   "id": "d5c373a8",
   "metadata": {},
   "outputs": [
    {
     "name": "stdout",
     "output_type": "stream",
     "text": [
      "Empty DataFrame\n",
      "Columns: []\n",
      "Index: [0, 1, 2]\n"
     ]
    }
   ],
   "source": [
    "import pandas as pd\n",
    "\n",
    "\n",
    "# Create a sample DataFrame for demonstration\n",
    "# Replace this with your actual DataFrame\n",
    "file= pd.DataFrame({\n",
    "    'col1': ['yes', 'no', 'yes'],\n",
    "    'col2': ['no', 'yes', 'yes'],\n",
    "    'col3': ['yes', 'no', 'no'],\n",
    "    'col4': ['no', 'yes', 'yes'],\n",
    "    'col5': ['yes', 'yes', 'no'],\n",
    "    \n",
    "})\n",
    "\n",
    "# Select columns 13 to 32 (in Python, this would be index 12 to 31)\n",
    "# Here, we will simulate this with the first few columns for demonstration\n",
    "# Replace `vac.iloc[:, 12:32]` with your actual column selection\n",
    "Mcd= (file.iloc[:, 12:32] == \"yes\").astype(int)\n",
    "\n",
    "# Display the resulting DataFrame\n",
    "print(Mcd)"
   ]
  },
  {
   "cell_type": "code",
   "execution_count": 28,
   "id": "34c27ccf",
   "metadata": {},
   "outputs": [
    {
     "name": "stdout",
     "output_type": "stream",
     "text": [
      "       col1      col2      col3\n",
      "0 -1.224745 -1.224745 -1.224745\n",
      "1  0.000000  0.000000  0.000000\n",
      "2  1.224745  1.224745  1.224745\n"
     ]
    }
   ],
   "source": [
    "import pandas as pd\n",
    "from sklearn.preprocessing import StandardScaler\n",
    "# Create a sample DataFrame for demonstration\n",
    "# Replace this with your actual DataFrame\n",
    "Mcd= pd.DataFrame({\n",
    "    'col1': [1, 2, 3],\n",
    "    'col2': [4, 5, 6],\n",
    "    'col3': [7, 8, 9],\n",
    "\n",
    "})\n",
    "\n",
    "# Initialize the StandardScaler\n",
    "scaler = StandardScaler()\n",
    "\n",
    "# Fit and transform the data\n",
    "Mcd_scaled = scaler.fit_transform(Mcd)\n",
    "\n",
    "# Convert the scaled data back to a DataFrame\n",
    "Mcd_scaled_df = pd.DataFrame(Mcd_scaled, columns=Mcd.columns)\n",
    "\n",
    "# Display the scaled DataFrame\n",
    "print(Mcd_scaled_df)"
   ]
  },
  {
   "cell_type": "code",
   "execution_count": 29,
   "id": "9b5f872b",
   "metadata": {},
   "outputs": [
    {
     "name": "stdout",
     "output_type": "stream",
     "text": [
      "        PC1           PC2           PC3\n",
      "0 -1.732051  2.739105e-17 -9.036953e-65\n",
      "1  0.000000 -0.000000e+00  5.755682e-49\n",
      "2  1.732051  2.739105e-17 -9.036953e-65\n"
     ]
    }
   ],
   "source": [
    "import pandas as pd\n",
    "from sklearn.decomposition import PCA\n",
    "# Create a sample DataFrame for demonstration\n",
    "# Replace this with your actual DataFrame\n",
    "Mcd= pd.DataFrame({\n",
    "    'col1': [1, 2, 3],\n",
    "    'col2': [4, 5, 6],\n",
    "    'col3': [7, 8, 9],\n",
    "    # Add more columns as needed\n",
    "})\n",
    "\n",
    "# Initialize PCA\n",
    "pca = PCA()\n",
    "\n",
    "# Fit PCA on the data\n",
    "Mcd_pca = pca.fit_transform(Mcd)\n",
    "\n",
    "# Convert the PCA result back to a DataFrame for easier handling\n",
    "Mcd_pca_df = pd.DataFrame(Mcd_pca, columns=[f'PC{i+1}' for i in range(Mcd.shape[1])])\n",
    "\n",
    "# Display the PCA result\n",
    "print(Mcd_pca_df)"
   ]
  },
  {
   "cell_type": "code",
   "execution_count": 30,
   "id": "ab3a1a9c",
   "metadata": {},
   "outputs": [
    {
     "name": "stdout",
     "output_type": "stream",
     "text": [
      "Standard Deviations: [0.81, 0.57, 0.53, 0.51, 0.47, 0.45, 0.43, 0.42, 0.41, 0.38, 0.36, 0.36, 0.35, 0.33, 0.33, 0.32, 0.31, 0.3, 0.28, 0.24]\n"
     ]
    }
   ],
   "source": [
    "# Standard deviations as a list in Python\n",
    "standard_deviations = [\n",
    "    0.81, 0.57, 0.53, 0.51, 0.47,\n",
    "    0.45, 0.43, 0.42, 0.41, 0.38,\n",
    "    0.36, 0.36, 0.35, 0.33, 0.33,\n",
    "    0.32, 0.31, 0.30, 0.28, 0.24\n",
    "]\n",
    "\n",
    "# Print the standard deviations\n",
    "print(\"Standard Deviations:\", standard_deviations)"
   ]
  },
  {
   "cell_type": "code",
   "execution_count": 31,
   "id": "cfa78a3a",
   "metadata": {},
   "outputs": [
    {
     "name": "stdout",
     "output_type": "stream",
     "text": [
      "Rotation Matrix (n x k):\n",
      "[list(['rest and relax', 'luxury / be spoilt', 'do sports', 'excitement, a challenge', 'not exceed planned budget', 'realise creativity', 'fun and entertainment', 'good company', 'health and beauty', 'free-and-easy-going', 'entertainment facilities', 'not care about prices', 'life style of the local people', 'intense experience of nature', 'cosiness/familiar atmosphere', 'maintain unspoilt surroundings', 'everything organised'])\n",
      " list([0.1345, -0.109, 0.3932, -0.1167, -0.095, 0.1456, -0.0456, -0.277, 0.2227, -0.2103, -0.286, -0.1561, 0.5831, -0.11, -0.0122, -0.0153, -0.279])\n",
      " list([0.5205, 0.0865, -0.284, -0.0097, 0.1291, -0.14, 0.0509, 0.0039, -0.317, 0.0575, 0.2445, -0.118, 0.3207, 0.005, -0.049, 0.2397, -0.2988, -0.353])\n",
      " list([-0.2672, -0.3982, -0.241, -0.2133, -0.0763, -0.132, -0.0133, 0.2017, -0.307, -0.3361, 0.0052, -0.092, 0.1649, 0.078])]\n"
     ]
    },
    {
     "name": "stderr",
     "output_type": "stream",
     "text": [
      "C:\\Users\\RAHUL\\AppData\\Local\\Temp/ipykernel_7696/2584465464.py:4: VisibleDeprecationWarning: Creating an ndarray from ragged nested sequences (which is a list-or-tuple of lists-or-tuples-or ndarrays with different lengths or shapes) is deprecated. If you meant to do this, you must specify 'dtype=object' when creating the ndarray.\n",
      "  rotation_matrix = np.array([\n"
     ]
    }
   ],
   "source": [
    "import numpy as np\n",
    "\n",
    "# Define the rotation matrix as a NumPy array\n",
    "rotation_matrix = np.array([\n",
    "    [\"rest and relax\", \"luxury / be spoilt\", \"do sports\", \"excitement, a challenge\", \"not exceed planned budget\",\n",
    "     \"realise creativity\", \"fun and entertainment\", \"good company\", \"health and beauty\", \"free-and-easy-going\",\n",
    "     \"entertainment facilities\", \"not care about prices\", \"life style of the local people\", \"intense experience of nature\",\n",
    "     \"cosiness/familiar atmosphere\", \"maintain unspoilt surroundings\", \"everything organised\"],\n",
    "    \n",
    "    [0.1345, -0.109, 0.3932, -0.1167, -0.095, 0.1456, -0.0456, -0.277, 0.2227, -0.2103, -0.286, -0.1561, \n",
    "     0.5831, -0.110, -0.0122, -0.0153, -0.279],\n",
    "    \n",
    "    [0.5205, 0.0865, -0.284, -0.0097, 0.1291, -0.140, 0.0509, 0.0039, -0.317, 0.0575, 0.2445, -0.118, \n",
    "     0.3207, 0.0050, -0.049, 0.2397, -0.2988, -0.353],\n",
    "    \n",
    "    [-0.2672, -0.3982, -0.241, -0.2133, -0.0763, -0.132, -0.0133, 0.2017, -0.307, -0.3361, 0.0052, \n",
    "     -0.092, 0.1649, 0.0780]\n",
    "])\n",
    "\n",
    "# Print the rotation matrix\n",
    "print(\"Rotation Matrix (n x k):\")\n",
    "print(rotation_matrix)"
   ]
  },
  {
   "cell_type": "code",
   "execution_count": 32,
   "id": "143c2d42",
   "metadata": {},
   "outputs": [
    {
     "name": "stdout",
     "output_type": "stream",
     "text": [
      "  Principal Component  Standard Deviation  Explained Variance  \\\n",
      "0                 PC1                2.45                 3.0   \n",
      "1                 PC2                0.00                 0.0   \n",
      "2                 PC3                0.00                 0.0   \n",
      "\n",
      "   Explained Variance Ratio  \n",
      "0                       1.0  \n",
      "1                       0.0  \n",
      "2                       0.0  \n"
     ]
    }
   ],
   "source": [
    "# Perform PCA\n",
    "pca = PCA()\n",
    "pca.fit(Mcd)\n",
    "\n",
    "# Create a summary DataFrame\n",
    "summary_df = pd.DataFrame({\n",
    "    'Principal Component': [f'PC{i+1}' for i in range(len(pca.explained_variance_))],\n",
    "    'Standard Deviation': np.round(pca.singular_values_, 2),\n",
    "    'Explained Variance': np.round(pca.explained_variance_, 2),\n",
    "    'Explained Variance Ratio': np.round(pca.explained_variance_ratio_, 2)\n",
    "})\n",
    "\n",
    "# Print the summary\n",
    "print(summary_df)"
   ]
  },
  {
   "cell_type": "code",
   "execution_count": 33,
   "id": "116b425f",
   "metadata": {},
   "outputs": [
    {
     "name": "stdout",
     "output_type": "stream",
     "text": [
      "Importance of Components:\n",
      "   Component  Standard Deviation  Proportion of Variance  \\\n",
      "0        PC1               0.810                   0.180   \n",
      "1        PC2               0.570                   0.090   \n",
      "2        PC3               0.529                   0.077   \n",
      "3        PC4               0.509                   0.071   \n",
      "4        PC5               0.470                   0.060   \n",
      "5        PC6               0.455                   0.057   \n",
      "6        PC7               0.431                   0.051   \n",
      "7        PC8               0.420                   0.048   \n",
      "8        PC9               0.405                   0.045   \n",
      "9       PC10               0.375                   0.039   \n",
      "10      PC11               0.364                   0.036   \n",
      "11      PC12               0.360                   0.035   \n",
      "12      PC13               0.348                   0.033   \n",
      "13      PC14               0.330                   0.030   \n",
      "14      PC15               0.330                   0.030   \n",
      "15      PC16               0.320                   0.028   \n",
      "16      PC17               0.306                   0.026   \n",
      "17      PC18               0.297                   0.024   \n",
      "18      PC19               0.281                   0.022   \n",
      "19      PC20               0.243                   0.016   \n",
      "\n",
      "    Cumulative Proportion  \n",
      "0                   0.180  \n",
      "1                   0.270  \n",
      "2                   0.348  \n",
      "3                   0.419  \n",
      "4                   0.480  \n",
      "5                   0.536  \n",
      "6                   0.587  \n",
      "7                   0.635  \n",
      "8                   0.681  \n",
      "9                   0.719  \n",
      "10                  0.756  \n",
      "11                  0.791  \n",
      "12                  0.824  \n",
      "13                  0.850  \n",
      "14                  0.880  \n",
      "15                  0.912  \n",
      "16                  0.938  \n",
      "17                  0.962  \n",
      "18                  0.984  \n",
      "19                  1.000  \n"
     ]
    }
   ],
   "source": [
    "import pandas as pd\n",
    "\n",
    "# Define the data for the importance of components\n",
    "data = {\n",
    "    'Component': ['PC1', 'PC2', 'PC3', 'PC4', 'PC5', 'PC6', \n",
    "                  'PC7', 'PC8', 'PC9', 'PC10', 'PC11', 'PC12', \n",
    "                  'PC13', 'PC14', 'PC15', 'PC16', 'PC17', 'PC18', \n",
    "                  'PC19', 'PC20'],\n",
    "    'Standard Deviation': [0.81, 0.57, 0.529, 0.509, 0.47, 0.455, \n",
    "                          0.431, 0.420, 0.405, 0.375, 0.364, 0.360, \n",
    "                          0.348, 0.33, 0.33, 0.320, 0.306, 0.297, \n",
    "                          0.281, 0.243],\n",
    "    'Proportion of Variance': [0.18, 0.09, 0.077, 0.071, 0.06, 0.057, \n",
    "                               0.051, 0.048, 0.045, 0.039, 0.036, 0.035, \n",
    "                               0.033, 0.03, 0.03, 0.028, 0.026, 0.024, \n",
    "                               0.022, 0.016],\n",
    "    'Cumulative Proportion': [0.18, 0.27, 0.348, 0.419, 0.48, 0.536, \n",
    "                             0.587, 0.635, 0.681, 0.719, 0.756, 0.791, \n",
    "                             0.824, 0.85, 0.88, 0.912, 0.938, 0.962, \n",
    "                             0.984, 1.000]\n",
    "}\n",
    "\n",
    "# Create a DataFrame\n",
    "importance_df = pd.DataFrame(data)\n",
    "\n",
    "# Print the summary\n",
    "print(\"Importance of Components:\")\n",
    "print(importance_df)"
   ]
  },
  {
   "cell_type": "code",
   "execution_count": 34,
   "id": "88a0d44b",
   "metadata": {},
   "outputs": [
    {
     "name": "stdout",
     "output_type": "stream",
     "text": [
      "  Component  Standard Deviation  Proportion of Variance  Cumulative Proportion\n",
      "0       PC1               0.810                   0.180                  0.180\n",
      "1       PC2               0.570                   0.090                  0.270\n",
      "2       PC3               0.529                   0.077                  0.348\n",
      "3       PC4               0.509                   0.071                  0.419\n",
      "4       PC5               0.470                   0.060                  0.480\n"
     ]
    }
   ],
   "source": [
    "import pandas as pd\n",
    "\n",
    "# Assuming 'data' is a dictionary\n",
    "data_df = pd.DataFrame(data)\n",
    "\n",
    "# Now you can use the head() method\n",
    "print(data_df.head())"
   ]
  },
  {
   "cell_type": "code",
   "execution_count": 35,
   "id": "17927f0b",
   "metadata": {},
   "outputs": [
    {
     "name": "stdout",
     "output_type": "stream",
     "text": [
      "Component                  object\n",
      "Standard Deviation        float64\n",
      "Proportion of Variance    float64\n",
      "Cumulative Proportion     float64\n",
      "dtype: object\n"
     ]
    }
   ],
   "source": [
    "print(data_df.dtypes)"
   ]
  },
  {
   "cell_type": "code",
   "execution_count": 36,
   "id": "8ba827b3",
   "metadata": {},
   "outputs": [],
   "source": [
    "from sklearn.preprocessing import OneHotEncoder\n",
    "\n",
    "# Example of one-hot encoding\n",
    "encoder = OneHotEncoder()\n",
    "data_encoded = encoder.fit_transform(data_df).toarray()  # Convert to a numeric array"
   ]
  },
  {
   "cell_type": "code",
   "execution_count": 37,
   "id": "f2a339bd",
   "metadata": {},
   "outputs": [],
   "source": [
    "from sklearn.decomposition import PCA\n",
    "\n",
    "pca = PCA(n_components=20)\n",
    "pca_result = pca.fit_transform(data_encoded)  # Use the encoded data"
   ]
  },
  {
   "cell_type": "code",
   "execution_count": 38,
   "id": "214dce2b",
   "metadata": {},
   "outputs": [
    {
     "name": "stdout",
     "output_type": "stream",
     "text": [
      "  yummy convenient spicy fattening greasy fast cheap tasty expensive healthy  \\\n",
      "0    No        Yes    No       Yes     No  Yes   Yes    No       Yes      No   \n",
      "1   Yes        Yes    No       Yes    Yes  Yes   Yes   Yes       Yes      No   \n",
      "2    No        Yes   Yes       Yes    Yes  Yes    No   Yes       Yes     Yes   \n",
      "3   Yes        Yes    No       Yes    Yes  Yes   Yes   Yes        No      No   \n",
      "4    No        Yes    No       Yes    Yes  Yes   Yes    No        No     Yes   \n",
      "\n",
      "  disgusting Like  Age      VisitFrequency  Gender  \n",
      "0         No   -3   61  Every three months  Female  \n",
      "1         No    2   51  Every three months  Female  \n",
      "2         No    1   62  Every three months  Female  \n",
      "3        Yes    4   69         Once a week  Female  \n",
      "4         No    2   49        Once a month    Male  \n"
     ]
    }
   ],
   "source": [
    "import pandas as pd\n",
    "\n",
    "# Load the dataset using the absolute path\n",
    "data = pd.read_csv(r'C:\\Users\\RAHUL\\Desktop\\Mcdonald.csv')  # Ensure the file name is correct\n",
    "\n",
    "# Display the first few rows of the dataset\n",
    "print(data.head())"
   ]
  },
  {
   "cell_type": "code",
   "execution_count": 39,
   "id": "b0524fae",
   "metadata": {},
   "outputs": [
    {
     "name": "stdout",
     "output_type": "stream",
     "text": [
      "C:\\Users\\RAHUL\\Mcdonald\n"
     ]
    }
   ],
   "source": [
    "import os\n",
    "\n",
    "# Print the current working directory\n",
    "print(os.getcwd())"
   ]
  },
  {
   "cell_type": "code",
   "execution_count": 40,
   "id": "f28a39dc",
   "metadata": {},
   "outputs": [
    {
     "name": "stdout",
     "output_type": "stream",
     "text": [
      "[[ 0. 10.  1. ...  9. 20. 31.]\n",
      " [10.  0. 11. ...  1. 10. 21.]\n",
      " [ 1. 11.  0. ... 10. 21. 32.]\n",
      " ...\n",
      " [ 9.  1. 10. ...  0. 11. 22.]\n",
      " [20. 10. 21. ... 11.  0. 11.]\n",
      " [31. 21. 32. ... 22. 11.  0.]]\n"
     ]
    }
   ],
   "source": [
    "import pandas as pd\n",
    "from scipy.spatial import distance\n",
    "import numpy as np\n",
    "\n",
    "# Load the dataset\n",
    "data = pd.read_csv(r'C:\\Users\\RAHUL\\Desktop\\Mcdonald.csv')\n",
    "\n",
    "# Ensure that the data is numeric\n",
    "# If there are non-numeric columns, you may need to select only the numeric ones\n",
    "numeric_data = data.select_dtypes(include=[np.number])\n",
    "\n",
    "# Compute the distance matrix using Euclidean distance\n",
    "D1 = distance.pdist(numeric_data, metric='euclidean')\n",
    "\n",
    "# Convert the condensed distance matrix to a square form\n",
    "D1_square = distance.squareform(D1)\n",
    "\n",
    "# Round the distance matrix to 2 decimal places\n",
    "D1_rounded = np.round(D1_square, 2)\n",
    "\n",
    "# Display the rounded distance matrix\n",
    "print(D1_rounded)"
   ]
  },
  {
   "cell_type": "code",
   "execution_count": 41,
   "id": "81eb9d68",
   "metadata": {},
   "outputs": [
    {
     "name": "stdout",
     "output_type": "stream",
     "text": [
      "[[ 0. 10.  1. ...  9. 20. 31.]\n",
      " [10.  0. 11. ...  1. 10. 21.]\n",
      " [ 1. 11.  0. ... 10. 21. 32.]\n",
      " ...\n",
      " [ 9.  1. 10. ...  0. 11. 22.]\n",
      " [20. 10. 21. ... 11.  0. 11.]\n",
      " [31. 21. 32. ... 22. 11.  0.]]\n"
     ]
    }
   ],
   "source": [
    "import pandas as pd\n",
    "from scipy.spatial import distance\n",
    "\n",
    "# Load the dataset\n",
    "data = pd.read_csv(r'C:\\Users\\RAHUL\\Desktop\\Mcdonald.csv')\n",
    "\n",
    "# Select only numeric columns\n",
    "numeric_data = data.select_dtypes(include=['number'])\n",
    "\n",
    "# Compute the distance matrix using Manhattan distance\n",
    "D2 = distance.pdist(numeric_data, metric='cityblock')  # 'cityblock' is the metric for Manhattan distance\n",
    "\n",
    "# Convert the condensed distance matrix to a square form\n",
    "D2_square = distance.squareform(D2)\n",
    "\n",
    "# Display the distance matrix\n",
    "print(D2_square)"
   ]
  },
  {
   "cell_type": "code",
   "execution_count": 46,
   "id": "76dfaa6c",
   "metadata": {},
   "outputs": [
    {
     "name": "stdout",
     "output_type": "stream",
     "text": [
      "Shape of D2_square: (1453, 1453)\n",
      "Number of columns in data: 15\n"
     ]
    }
   ],
   "source": [
    "print(\"Shape of D2_square:\", D2_square.shape)\n",
    "print(\"Number of columns in data:\", len(data.columns))"
   ]
  },
  {
   "cell_type": "code",
   "execution_count": 47,
   "id": "a613c62c",
   "metadata": {},
   "outputs": [
    {
     "name": "stdout",
     "output_type": "stream",
     "text": [
      "         Anna  Bill  Frank  Julia  Maria  Michael  Tom\n",
      "Anna        0    80     80     60     40       60   40\n",
      "Bill        0     0    200    100    200      100   80\n",
      "Frank      80    80      0     80     80      120   60\n",
      "Julia      60    60     80      0     20      180   40\n",
      "Maria      40    40     80     20      0      180   60\n",
      "Michael   200   200    120    180    180        0  140\n",
      "Tom       100   100     60     40     60      140    0\n"
     ]
    }
   ],
   "source": [
    "import pandas as pd\n",
    "import numpy as np\n",
    "\n",
    "# Define the distance matrix D2\n",
    "D2 = np.array([\n",
    "    [0, 80, 80, 60, 40, 60, 40],\n",
    "    [0, 0, 200, 100, 200, 100, 80],\n",
    "    [80, 80, 0, 80, 80, 120, 60],\n",
    "    [60, 60, 80, 0, 20, 180, 40],\n",
    "    [40, 40, 80, 20, 0, 180, 60],\n",
    "    [200, 200, 120, 180, 180, 0, 140],\n",
    "    [100, 100, 60, 40, 60, 140, 0]\n",
    "])\n",
    "\n",
    "# Define the names for the index and columns\n",
    "names = [\"Anna\", \"Bill\", \"Frank\", \"Julia\", \"Maria\", \"Michael\", \"Tom\"]  # 7 names for 7 rows and columns\n",
    "\n",
    "# Create the DataFrame\n",
    "D2_df = pd.DataFrame(D2, index=names, columns=names)\n",
    "\n",
    "# Display the matrix\n",
    "print(D2_df)"
   ]
  },
  {
   "cell_type": "code",
   "execution_count": 48,
   "id": "6cbd5e7e",
   "metadata": {},
   "outputs": [
    {
     "name": "stdout",
     "output_type": "stream",
     "text": [
      "       Col1  Col2  Col3  Col4  Col5  Col6  Col7\n",
      "Anna      1     2     3     4     5     6     7\n",
      "Bill      8     9    10    11    12    13    14\n",
      "Frank    15    16    17    18    19    20    21\n",
      "Julia    22    23    24    25    26    27    28\n"
     ]
    }
   ],
   "source": [
    "import pandas as pd\n",
    "\n",
    "# Example data with 4 rows and 7 columns\n",
    "data = [\n",
    "    [1, 2, 3, 4, 5, 6, 7],\n",
    "    [8, 9, 10, 11, 12, 13, 14],\n",
    "    [15, 16, 17, 18, 19, 20, 21],\n",
    "    [22, 23, 24, 25, 26, 27, 28]\n",
    "]\n",
    "\n",
    "# Adjust the index and columns to match the data shape\n",
    "index_names = ['Anna', 'Bill', 'Frank', 'Julia']  # 4 names for 4 rows\n",
    "column_names = ['Col1', 'Col2', 'Col3', 'Col4', 'Col5', 'Col6', 'Col7']  # 7 names for 7 columns\n",
    "\n",
    "# Create the DataFrame\n",
    "annabill_df = pd.DataFrame(data, index=index_names, columns=column_names)\n",
    "\n",
    "# Display the DataFrame\n",
    "print(annabill_df)"
   ]
  },
  {
   "cell_type": "code",
   "execution_count": 49,
   "id": "63fdd980",
   "metadata": {},
   "outputs": [
    {
     "name": "stdout",
     "output_type": "stream",
     "text": [
      "           Anna    Bill   Frank   Julia   Maria  Michael\n",
      "Anna       0.00   56.57   42.43   28.28  134.91    61.64\n",
      "Bill      56.57    0.00   50.99   28.28  115.76    37.42\n",
      "Frank     42.43   50.99    0.00   48.99  120.83    28.28\n",
      "Julia     28.28   28.28   48.99    0.00  134.91    37.42\n",
      "Maria    134.91  115.76  120.83  134.91    0.00    88.32\n",
      "Michael   61.64   37.42   28.28   37.42   88.32     0.00\n"
     ]
    }
   ],
   "source": [
    "import pandas as pd\n",
    "\n",
    "# Example dissimilarity data (6x6 matrix)\n",
    "dissimilarities = [\n",
    "    [0.00, 56.57, 42.43, 28.28, 134.91, 61.64],\n",
    "    [56.57, 0.00, 50.99, 28.28, 115.76, 37.42],\n",
    "    [42.43, 50.99, 0.00, 48.99, 120.83, 28.28],\n",
    "    [28.28, 28.28, 48.99, 0.00, 134.91, 37.42],\n",
    "    [134.91, 115.76, 120.83, 134.91, 0.00, 88.32],\n",
    "    [61.64, 37.42, 28.28, 37.42, 88.32, 0.00]\n",
    "]\n",
    "\n",
    "# Names corresponding to the dissimilarities (6 names)\n",
    "names = ['Anna', 'Bill', 'Frank', 'Julia', 'Maria', 'Michael']\n",
    "\n",
    "# Create a DataFrame\n",
    "annabill_df = pd.DataFrame(dissimilarities, index=names, columns=names)\n",
    "\n",
    "# Display the DataFrame\n",
    "print(annabill_df)"
   ]
  },
  {
   "cell_type": "code",
   "execution_count": 3,
   "id": "6adf6921",
   "metadata": {},
   "outputs": [
    {
     "name": "stdout",
     "output_type": "stream",
     "text": [
      "Requirement already satisfied: rpy2 in c:\\users\\rahul\\anaconda3\\lib\\site-packages (3.5.11)\n",
      "Requirement already satisfied: jinja2 in c:\\users\\rahul\\anaconda3\\lib\\site-packages (from rpy2) (2.11.3)\n",
      "Requirement already satisfied: cffi>=1.10.0 in c:\\users\\rahul\\anaconda3\\lib\\site-packages (from rpy2) (1.14.6)\n",
      "Requirement already satisfied: tzlocal in c:\\users\\rahul\\anaconda3\\lib\\site-packages (from rpy2) (5.2)\n",
      "Requirement already satisfied: pytz in c:\\users\\rahul\\anaconda3\\lib\\site-packages (from rpy2) (2021.3)\n",
      "Requirement already satisfied: packaging in c:\\users\\rahul\\anaconda3\\lib\\site-packages (from rpy2) (23.0)\n",
      "Requirement already satisfied: pycparser in c:\\users\\rahul\\anaconda3\\lib\\site-packages (from cffi>=1.10.0->rpy2) (2.20)\n",
      "Requirement already satisfied: MarkupSafe>=0.23 in c:\\users\\rahul\\anaconda3\\lib\\site-packages (from jinja2->rpy2) (1.1.1)\n",
      "Requirement already satisfied: tzdata in c:\\users\\rahul\\anaconda3\\lib\\site-packages (from tzlocal->rpy2) (2024.1)\n",
      "Note: you may need to restart the kernel to use updated packages.\n"
     ]
    }
   ],
   "source": [
    "pip install rpy2"
   ]
  },
  {
   "cell_type": "code",
   "execution_count": 4,
   "id": "a47f14ce",
   "metadata": {},
   "outputs": [
    {
     "name": "stdout",
     "output_type": "stream",
     "text": [
      "Collecting package metadata (current_repodata.json): ...working... done\n",
      "Solving environment: ...working... done\n",
      "\n",
      "# All requested packages already installed.\n",
      "\n",
      "Retrieving notices: ...working... done\n",
      "\n",
      "Note: you may need to restart the kernel to use updated packages.\n"
     ]
    },
    {
     "name": "stderr",
     "output_type": "stream",
     "text": [
      "\n",
      "\n",
      "==> WARNING: A newer version of conda exists. <==\n",
      "  current version: 4.14.0\n",
      "  latest version: 24.7.1\n",
      "\n",
      "Please update conda by running\n",
      "\n",
      "    $ conda update -n base -c conda-forge conda\n",
      "\n",
      "\n"
     ]
    }
   ],
   "source": [
    "conda install -c conda-forge rpy2"
   ]
  },
  {
   "cell_type": "code",
   "execution_count": null,
   "id": "6f31a35b",
   "metadata": {},
   "outputs": [],
   "source": [
    "# Import the necessary modules from rpy2\n",
    "from rpy2.robjects.packages import importr\n",
    "\n",
    "# Import the MSA library\n",
    "msa = importr('MSA')"
   ]
  },
  {
   "cell_type": "code",
   "execution_count": null,
   "id": "8339931c",
   "metadata": {},
   "outputs": [],
   "source": [
    "# Import the necessary modules from rpy2\n",
    "from rpy2.robjects import r\n",
    "from rpy2.robjects.packages import importr\n",
    "\n",
    "# Import the MSA library\n",
    "msa = importr('MSA')\n",
    "\n",
    "# Load the 'risk' dataset from the MSA package\n",
    "risk_data = r('data(\"risk\", package = \"MSA\")')"
   ]
  },
  {
   "cell_type": "code",
   "execution_count": null,
   "id": "0028be43",
   "metadata": {},
   "outputs": [],
   "source": [
    "pip install rpy2"
   ]
  },
  {
   "cell_type": "code",
   "execution_count": null,
   "id": "e0a32c45",
   "metadata": {},
   "outputs": [],
   "source": [
    "# Import the necessary modules from rpy2\n",
    "from rpy2.robjects import r\n",
    "from rpy2.robjects.packages import importr\n",
    "\n",
    "# Import the MSA library\n",
    "msa = importr('MSA')\n",
    "\n",
    "# Load the 'risk' dataset from the MSA package\n",
    "r('data(\"risk\", package = \"MSA\")')\n",
    "\n",
    "# Calculate the column means of the 'risk' dataset\n",
    "column_means = r('colMeans(risk)')\n",
    "print(column_means)"
   ]
  },
  {
   "cell_type": "code",
   "execution_count": null,
   "id": "6f670959",
   "metadata": {},
   "outputs": [],
   "source": [
    "# Define the data as a dictionary\n",
    "data = {\n",
    "    \"Recreational\": 2.190053,\n",
    "    \"Health\": 2.396092,\n",
    "    \"Career\": 2.007105,\n",
    "    \"Financial\": 2.026643,\n",
    "    \"Safety\": 2.266430,\n",
    "    \"Social\": 2.017762\n",
    "}\n",
    "\n",
    "# Print the dictionary\n",
    "print(data)"
   ]
  },
  {
   "cell_type": "code",
   "execution_count": null,
   "id": "586e274c",
   "metadata": {},
   "outputs": [],
   "source": [
    "import pandas as pd\n",
    "from scipy.spatial.distance import pdist\n",
    "from scipy.cluster.hierarchy import linkage, dendrogram\n",
    "import matplotlib.pyplot as plt\n",
    "\n",
    "# Example data with multiple observations (replace this with your actual DataFrame)\n",
    "data = {\n",
    "    \"Recreational\": [2.190053, 2.300000, 2.400000],\n",
    "    \"Health\": [2.396092, 2.500000, 2.600000],\n",
    "    \"Career\": [2.007105, 2.100000, 2.200000],\n",
    "    \"Financial\": [2.026643, 2.150000, 2.250000],\n",
    "    \"Safety\": [2.266430, 2.300000, 2.400000],\n",
    "    \"Social\": [2.017762, 2.100000, 2.200000]\n",
    "}\n",
    "risk = pd.DataFrame(data)\n",
    "\n",
    "# Calculate the Manhattan distance\n",
    "risk_dist = pdist(risk, metric='cityblock')\n",
    "\n",
    "# Perform hierarchical clustering using complete linkage\n",
    "risk_hcl = linkage(risk_dist, method='complete')\n",
    "\n",
    "# Plot the dendrogram\n",
    "plt.figure(figsize=(10, 5))\n",
    "# Use the original number of observations for labels\n",
    "dendrogram(risk_hcl, labels=[f'Obs {i+1}' for i in range(risk.shape[0])])\n",
    "plt.title('Hierarchical Clustering Dendrogram')\n",
    "plt.xlabel('Observations')\n",
    "plt.ylabel('Distance')\n",
    "plt.show()"
   ]
  },
  {
   "cell_type": "code",
   "execution_count": null,
   "id": "9a7beb24",
   "metadata": {},
   "outputs": [],
   "source": [
    "# risk = pd.read_csv('path/to/your/data.csv')\n",
    "\n",
    "# Calculate the Manhattan distance\n",
    "risk_dist = pdist(risk, metric='cityblock')  # 'cityblock' is the Manhattan distance\n",
    "\n",
    "# Perform hierarchical clustering using complete linkage\n",
    "risk_hcl = linkage(risk_dist, method='complete')\n",
    "\n",
    "# Display the hierarchical clustering as a dendrogram\n",
    "plt.figure(figsize=(10, 7))\n",
    "dendrogram(risk_hcl)\n",
    "plt.title('Hierarchical Clustering Dendrogram')\n",
    "plt.xlabel('Sample Index')\n",
    "plt.ylabel('Distance')\n",
    "plt.show()"
   ]
  },
  {
   "cell_type": "code",
   "execution_count": null,
   "id": "3823f039",
   "metadata": {},
   "outputs": [],
   "source": [
    "import pandas as pd\n",
    "from scipy.spatial.distance import pdist\n",
    "from scipy.cluster.hierarchy import linkage, dendrogram\n",
    "import matplotlib.pyplot as plt\n",
    "\n",
    "# Load your data into a DataFrame\n",
    "# Replace 'path/to/your/data.csv' with the actual path to your dataset\n",
    "risk = pd.read_csv('path/to/your/data.csv')\n",
    "\n",
    "# Calculate the Manhattan distance\n",
    "risk_dist = pdist(risk, metric='cityblock')  # 'cityblock' is the Manhattan distance\n",
    "\n",
    "# Perform hierarchical clustering using complete linkage\n",
    "risk_hcl = linkage(risk_dist, method='complete')\n",
    "\n",
    "# Display the hierarchical clustering as a dendrogram\n",
    "plt.figure(figsize=(10, 7))\n",
    "dendrogram(risk_hcl)\n",
    "plt.title('Hierarchical Clustering Dendrogram')\n",
    "plt.xlabel('Sample Index')\n",
    "plt.ylabel('Distance')\n",
    "plt.show()\n",
    "\n",
    "# Print the number of objects\n",
    "print(f\"Number of objects: {risk.shape[0]}\")"
   ]
  },
  {
   "cell_type": "code",
   "execution_count": 5,
   "id": "d40088cf",
   "metadata": {},
   "outputs": [
    {
     "name": "stdout",
     "output_type": "stream",
     "text": [
      "DataFrame after dropping NaN values:\n",
      "Empty DataFrame\n",
      "Columns: [yummy, convenient, spicy, fattening, greasy, fast, cheap, tasty, expensive, healthy, disgusting, Like, Age, VisitFrequency, Gender]\n",
      "Index: []\n"
     ]
    }
   ],
   "source": [
    "print(\"DataFrame after dropping NaN values:\")\n",
    "print(risk_numeric)"
   ]
  },
  {
   "cell_type": "code",
   "execution_count": 6,
   "id": "dfad2fc0",
   "metadata": {},
   "outputs": [
    {
     "name": "stdout",
     "output_type": "stream",
     "text": [
      "First few rows of the DataFrame:\n",
      "  yummy convenient spicy fattening greasy fast cheap tasty expensive healthy  \\\n",
      "0    No        Yes    No       Yes     No  Yes   Yes    No       Yes      No   \n",
      "1   Yes        Yes    No       Yes    Yes  Yes   Yes   Yes       Yes      No   \n",
      "2    No        Yes   Yes       Yes    Yes  Yes    No   Yes       Yes     Yes   \n",
      "3   Yes        Yes    No       Yes    Yes  Yes   Yes   Yes        No      No   \n",
      "4    No        Yes    No       Yes    Yes  Yes   Yes    No        No     Yes   \n",
      "\n",
      "  disgusting Like  Age      VisitFrequency  Gender  \n",
      "0         No   -3   61  Every three months  Female  \n",
      "1         No    2   51  Every three months  Female  \n",
      "2         No    1   62  Every three months  Female  \n",
      "3        Yes    4   69         Once a week  Female  \n",
      "4         No    2   49        Once a month    Male  \n"
     ]
    }
   ],
   "source": [
    "print(\"First few rows of the DataFrame:\")\n",
    "print(risk.head())"
   ]
  },
  {
   "cell_type": "code",
   "execution_count": 8,
   "id": "2852dfc1",
   "metadata": {},
   "outputs": [
    {
     "name": "stdout",
     "output_type": "stream",
     "text": [
      "Data Types:\n",
      "yummy             object\n",
      "convenient        object\n",
      "spicy             object\n",
      "fattening         object\n",
      "greasy            object\n",
      "fast              object\n",
      "cheap             object\n",
      "tasty             object\n",
      "expensive         object\n",
      "healthy           object\n",
      "disgusting        object\n",
      "Like              object\n",
      "Age                int64\n",
      "VisitFrequency    object\n",
      "Gender            object\n",
      "dtype: object\n",
      "Number of NaN values in each column:\n",
      "yummy             1453\n",
      "convenient        1453\n",
      "spicy             1453\n",
      "fattening         1453\n",
      "greasy            1453\n",
      "fast              1453\n",
      "cheap             1453\n",
      "tasty             1453\n",
      "expensive         1453\n",
      "healthy           1453\n",
      "disgusting        1453\n",
      "Like               295\n",
      "Age                  0\n",
      "VisitFrequency    1453\n",
      "Gender            1453\n",
      "dtype: int64\n",
      "DataFrame after dropping NaN values:\n",
      "Empty DataFrame\n",
      "Columns: [yummy, convenient, spicy, fattening, greasy, fast, cheap, tasty, expensive, healthy, disgusting, Like, Age, VisitFrequency, Gender]\n",
      "Index: []\n",
      "Distance matrix shape: (0,)\n",
      "Distance matrix is empty. Please check your data.\n"
     ]
    }
   ],
   "source": [
    "import pandas as pd\n",
    "from scipy.spatial.distance import pdist\n",
    "from scipy.cluster.hierarchy import linkage, cut_tree\n",
    "\n",
    "# Load your data into a DataFrame\n",
    "risk = pd.read_csv('Mcdonald.csv')\n",
    "\n",
    "# Check the data types of the DataFrame\n",
    "print(\"Data Types:\")\n",
    "print(risk.dtypes)\n",
    "\n",
    "# Convert all columns to numeric, forcing errors to NaN\n",
    "risk_numeric = risk.apply(pd.to_numeric, errors='coerce')\n",
    "\n",
    "# Check for NaN values\n",
    "print(\"Number of NaN values in each column:\")\n",
    "print(risk_numeric.isna().sum())\n",
    "\n",
    "# Drop any rows with NaN values\n",
    "risk_numeric = risk_numeric.dropna()\n",
    "\n",
    "# Check the DataFrame after dropping NaN values\n",
    "print(\"DataFrame after dropping NaN values:\")\n",
    "print(risk_numeric)\n",
    "\n",
    "# Calculate the Manhattan distance\n",
    "risk_dist = pdist(risk_numeric, metric='cityblock')  # 'cityblock' is the Manhattan distance\n",
    "print(\"Distance matrix shape:\", risk_dist.shape)\n",
    "\n",
    "# Check if the distance matrix is empty\n",
    "if risk_dist.size == 0:\n",
    "    print(\"Distance matrix is empty. Please check your data.\")\n",
    "else:\n",
    "    # Perform hierarchical clustering using complete linkage\n",
    "    risk_hcl = linkage(risk_dist, method='complete')\n",
    "\n",
    "    # Cut the dendrogram at a height of 20 to create clusters\n",
    "    c2 = cut_tree(risk_hcl, height=20)\n",
    "\n",
    "    # Convert the resulting clusters to a DataFrame for easier manipulation\n",
    "    c2_df = pd.DataFrame(c2, columns=['Cluster'])\n",
    "\n",
    "    # Count the occurrences of each cluster\n",
    "    cluster_counts = c2_df['Cluster'].value_counts()\n",
    "\n",
    "    # Print the cluster assignments and their counts\n",
    "    print(\"Cluster Assignments:\")\n",
    "    print(cluster_counts)"
   ]
  },
  {
   "cell_type": "code",
   "execution_count": 9,
   "id": "55e37156",
   "metadata": {},
   "outputs": [
    {
     "name": "stdout",
     "output_type": "stream",
     "text": [
      "         Recreational  Health  Career  Financial  Safety  Social\n",
      "Cluster                                                         \n",
      "1                 2.0     2.0     1.7        1.8     2.1     2.1\n",
      "2                 4.0     3.8     3.5        3.0     3.4     3.6\n",
      "3                 2.2     3.2     2.5        2.5     2.4     2.1\n"
     ]
    }
   ],
   "source": [
    "import pandas as pd\n",
    "\n",
    "# Assuming 'risk' is your DataFrame and 'c2' contains the cluster assignments\n",
    "# For demonstration, let's create a sample DataFrame similar to your description\n",
    "data = {\n",
    "    'Recreational': [2.0, 1.9, 3.9, 4.1, 2.3, 2.0],\n",
    "    'Health': [2.2, 1.8, 4.4, 3.3, 2.6, 3.8],\n",
    "    'Career': [1.9, 1.5, 2.9, 4.1, 3.2, 1.8],\n",
    "    'Financial': [2.0, 1.6, 3.2, 2.8, 2.6, 2.4],\n",
    "    'Safety': [2.2, 2.0, 3.3, 3.4, 2.6, 2.3],\n",
    "    'Social': [2.8, 1.4, 4.1, 3.2, 2.2, 2.0]\n",
    "}\n",
    "\n",
    "# Create a DataFrame\n",
    "risk = pd.DataFrame(data)\n",
    "\n",
    "# Sample cluster assignments (c2) for demonstration\n",
    "c2 = [1, 1, 2, 2, 3, 3]  # Example cluster assignments\n",
    "\n",
    "# Add cluster assignments to the DataFrame\n",
    "risk['Cluster'] = c2\n",
    "\n",
    "# Calculate the mean for each cluster\n",
    "c6_means = risk.groupby('Cluster').mean().round(1)\n",
    "\n",
    "# Print the resulting means\n",
    "print(c6_means)"
   ]
  },
  {
   "cell_type": "code",
   "execution_count": 10,
   "id": "6eda8c46",
   "metadata": {},
   "outputs": [
    {
     "name": "stdout",
     "output_type": "stream",
     "text": [
      "   Feature1  Feature2\n",
      "0 -6.524120  2.337414\n",
      "1  5.321557 -4.600313\n",
      "2  3.789086 -5.451456\n",
      "3 -5.135810  0.041722\n",
      "4 -4.786614  2.419715\n"
     ]
    },
    {
     "data": {
      "image/png": "[encoded data removed]",
      "text/plain": [
       "<Figure size 432x288 with 1 Axes>"
      ]
     },
     "metadata": {
      "needs_background": "light"
     },
     "output_type": "display_data"
    }
   ],
   "source": [
    "import numpy as np\n",
    "import pandas as pd\n",
    "from sklearn.datasets import make_blobs\n",
    "import matplotlib.pyplot as plt\n",
    "\n",
    "# Set the random seed for reproducibility\n",
    "np.random.seed(1234)\n",
    "\n",
    "# Generate synthetic data similar to priceFeature in R\n",
    "n_samples = 500\n",
    "n_clusters = 3\n",
    "X, y = make_blobs(n_samples=n_samples, centers=n_clusters, cluster_std=1.0, random_state=1234)\n",
    "\n",
    "# Convert to a DataFrame for easier manipulation\n",
    "data = pd.DataFrame(X, columns=['Feature1', 'Feature2'])\n",
    "\n",
    "# Display the first few rows of the generated data\n",
    "print(data.head())\n",
    "\n",
    "# Optional: Visualize the generated clusters\n",
    "plt.scatter(data['Feature1'], data['Feature2'], c=y, cmap='viridis', marker='o')\n",
    "plt.title('Generated Clusters')\n",
    "plt.xlabel('Feature 1')\n",
    "plt.ylabel('Feature 2')\n",
    "plt.show()"
   ]
  },
  {
   "cell_type": "code",
   "execution_count": 11,
   "id": "99a17983",
   "metadata": {},
   "outputs": [
    {
     "name": "stdout",
     "output_type": "stream",
     "text": [
      "Cluster Assignments:\n",
      "[2 0 0 2 2 2 0 2 2 0 1 2 2 1 1 1 1 0 2 0 0 2 2 0 2 2 2 2 2 0 1 2 2 1 1 1 2\n",
      " 2 1 1 0 2 1 0 1 0 2 2 0 0 1 1 1 0 1 0 2 1 1 2 1 0 1 0 2 1 1 2 1 0 0 0 0 2\n",
      " 0 0 2 1 2 0 1 0 2 0 0 2 0 0 2 1 1 1 2 0 0 0 0 2 2 1 1 0 1 1 2 1 2 0 1 1 2\n",
      " 1 0 1 1 0 2 2 2 1 1 1 0 0 0 2 1 2 0 0 0 2 2 2 2 1 1 2 1 2 2 1 0 0 1 1 0 1\n",
      " 2 0 2 0 0 1 1 0 2 0 1 2 2 2 0 0 1 1 2 2 0 2 2 1 2 0 1 1 0 2 0 1 0 1 2 1 2\n",
      " 0 0 0 2 0 2 1 2 2 2 2 2 0 2 2 1 2 2 1 0 1 2 2 1 2 1 0 1 2 2 0 1 2 1 2 1 1\n",
      " 1 2 0 1 0 1 2 0 1 2 0 2 0 2 0 1 2 0 2 2 2 1 0 0 0 2 2 2 2 2 1 0 0 0 2 0 2\n",
      " 0 1 0 1 0 1 1 1 1 2 0 1 0 1 1 0 1 0 1 0 1 2 2 1 0 0 0 2 0 1 0 1 1 0 1 0 1\n",
      " 1 2 2 1 2 2 1 0 2 0 1 2 1 2 0 1 0 2 0 1 2 2 1 1 2 1 0 2 1 1 1 1 0 2 0 2 0\n",
      " 2 0 1 0 1 1 0 0 1 0 0 0 2 2 2 2 0 0 1 0 1 1 0 1 1 2 2 1 1 1 2 0 0 2 2 1 0\n",
      " 1 0 2 2 0 1 1 1 0 1 2 2 2 0 2 1 2 2 1 0 0 2 0 1 1 0 1 2 2 1 1 0 2 2 0 1 0\n",
      " 0 2 1 1 0 2 1 1 1 2 1 0 2 1 1 1 0 0 1 0 2 0 2 0 0 2 2 1 1 0 2 2 0 2 2 2 1\n",
      " 2 1 0 0 0 0 0 2 1 1 1 0 1 0 2 2 2 0 1 0 0 1 0 1 1 2 1 2 1 0 2 0 2 1 0 0 0\n",
      " 0 0 0 0 2 1 1 0 0 1 1 2 2 0 2 0 0 1 2]\n"
     ]
    }
   ],
   "source": [
    "import numpy as np\n",
    "import pandas as pd\n",
    "from sklearn.datasets import make_blobs\n",
    "from sklearn.cluster import KMeans\n",
    "\n",
    "# Set a random seed for reproducibility\n",
    "np.random.seed(1234)\n",
    "\n",
    "# Generate synthetic data similar to the R function priceFeature\n",
    "# Here, we create 500 samples with 3 clusters\n",
    "n_samples = 500\n",
    "n_clusters = 3\n",
    "PF3, _ = make_blobs(n_samples=n_samples, centers=n_clusters, random_state=1234)\n",
    "\n",
    "# Perform K-means clustering with 3 clusters\n",
    "kmeans = KMeans(n_clusters=3, random_state=1234)\n",
    "PF3_km3 = kmeans.fit_predict(PF3)\n",
    "\n",
    "# Display the cluster assignments\n",
    "print(\"Cluster Assignments:\")\n",
    "print(PF3_km3)"
   ]
  },
  {
   "cell_type": "code",
   "execution_count": 12,
   "id": "ab6c042f",
   "metadata": {},
   "outputs": [
    {
     "name": "stdout",
     "output_type": "stream",
     "text": [
      "Cluster Sizes:\n",
      "Cluster 1: 166\n",
      "Cluster 2: 167\n",
      "Cluster 3: 167\n"
     ]
    }
   ],
   "source": [
    "import numpy as np\n",
    "import pandas as pd\n",
    "from sklearn.datasets import make_blobs\n",
    "from sklearn.cluster import KMeans\n",
    "\n",
    "# Set a random seed for reproducibility\n",
    "np.random.seed(1234)\n",
    "\n",
    "# Generate synthetic data similar to the R function priceFeature\n",
    "n_samples = 500\n",
    "n_clusters = 3\n",
    "PF3, _ = make_blobs(n_samples=n_samples, centers=n_clusters, random_state=1234)\n",
    "\n",
    "# Perform K-means clustering with 3 clusters\n",
    "kmeans = KMeans(n_clusters=3, random_state=1234)\n",
    "PF3_km3 = kmeans.fit_predict(PF3)\n",
    "\n",
    "# Get the sizes of each cluster\n",
    "cluster_sizes = np.bincount(PF3_km3)\n",
    "\n",
    "# Display the cluster sizes\n",
    "print(\"Cluster Sizes:\")\n",
    "for i, size in enumerate(cluster_sizes, start=1):\n",
    "    print(f\"Cluster {i}: {size}\")"
   ]
  },
  {
   "cell_type": "code",
   "execution_count": 13,
   "id": "2497e7ff",
   "metadata": {},
   "outputs": [
    {
     "name": "stdout",
     "output_type": "stream",
     "text": [
      "Cluster Centers (Features/Performance/Quality):\n",
      "Cluster 1: [ 5.66522183 -4.61547008]\n",
      "Cluster 2: [-1.24973392  5.64934472]\n",
      "Cluster 3: [-6.05255534  2.45404435]\n",
      "\n",
      "Inertia (Quality): 948.2808019776468\n",
      "\n",
      "First 20 Cluster Assignments:\n",
      "[2 0 0 2 2 2 0 2 2 0 1 2 2 1 1 1 1 0 2 0]\n"
     ]
    }
   ],
   "source": [
    "import numpy as np\n",
    "import pandas as pd\n",
    "from sklearn.datasets import make_blobs\n",
    "from sklearn.cluster import KMeans\n",
    "\n",
    "# Set a random seed for reproducibility\n",
    "np.random.seed(1234)\n",
    "\n",
    "# Generate synthetic data similar to the R function priceFeature\n",
    "n_samples = 500\n",
    "n_clusters = 3\n",
    "PF3, _ = make_blobs(n_samples=n_samples, centers=n_clusters, random_state=1234)\n",
    "\n",
    "# Perform K-means clustering with 3 clusters\n",
    "kmeans = KMeans(n_clusters=3, random_state=1234)\n",
    "PF3_km3 = kmeans.fit_predict(PF3)\n",
    "\n",
    "# Get the cluster centers (similar to parameters in R)\n",
    "cluster_centers = kmeans.cluster_centers_\n",
    "\n",
    "# Calculate the inertia (sum of squared distances to closest cluster center)\n",
    "inertia = kmeans.inertia_\n",
    "\n",
    "# Display the cluster centers and inertia\n",
    "print(\"Cluster Centers (Features/Performance/Quality):\")\n",
    "for i, center in enumerate(cluster_centers):\n",
    "    print(f\"Cluster {i + 1}: {center}\")\n",
    "\n",
    "print(\"\\nInertia (Quality):\", inertia)\n",
    "\n",
    "# Display the first 20 cluster assignments\n",
    "print(\"\\nFirst 20 Cluster Assignments:\")\n",
    "print(PF3_km3[:20])"
   ]
  },
  {
   "cell_type": "code",
   "execution_count": 14,
   "id": "54e383a9",
   "metadata": {},
   "outputs": [
    {
     "data": {
      "image/png": "[encoded data removed]",
      "text/plain": [
       "<Figure size 720x432 with 1 Axes>"
      ]
     },
     "metadata": {
      "needs_background": "light"
     },
     "output_type": "display_data"
    }
   ],
   "source": [
    "import numpy as np\n",
    "import pandas as pd\n",
    "import matplotlib.pyplot as plt\n",
    "from sklearn.datasets import make_blobs\n",
    "from sklearn.cluster import KMeans\n",
    "from scipy.spatial import ConvexHull\n",
    "\n",
    "# Set a random seed for reproducibility\n",
    "np.random.seed(1234)\n",
    "\n",
    "# Generate synthetic data similar to the R function priceFeature\n",
    "n_samples = 500\n",
    "n_clusters = 3\n",
    "PF3, _ = make_blobs(n_samples=n_samples, centers=n_clusters, random_state=1234)\n",
    "\n",
    "# Perform K-means clustering with 3 clusters\n",
    "kmeans = KMeans(n_clusters=3, random_state=1234)\n",
    "PF3_km3 = kmeans.fit_predict(PF3)\n",
    "\n",
    "# Function to plot clusters and their convex hulls\n",
    "def plot_clusters_with_hulls(data, labels):\n",
    "    plt.figure(figsize=(10, 6))\n",
    "    \n",
    "    # Unique clusters\n",
    "    unique_labels = np.unique(labels)\n",
    "    \n",
    "    for label in unique_labels:\n",
    "        # Select data points for the current cluster\n",
    "        cluster_points = data[labels == label]\n",
    "        \n",
    "        # Calculate the convex hull\n",
    "        if len(cluster_points) >= 3:  # Convex hull requires at least 3 points\n",
    "            hull = ConvexHull(cluster_points)\n",
    "            plt.fill(cluster_points[hull.vertices, 0], cluster_points[hull.vertices, 1], alpha=0.3)\n",
    "        \n",
    "        # Plot the points\n",
    "        plt.scatter(cluster_points[:, 0], cluster_points[:, 1], label=f'Cluster {label + 1}')\n",
    "    \n",
    "    plt.title('Clusters and Convex Hulls')\n",
    "    plt.xlabel('Feature 1')\n",
    "    plt.ylabel('Feature 2')\n",
    "    plt.legend()\n",
    "    plt.grid()\n",
    "    plt.show()\n",
    "\n",
    "# Plot the clusters and their convex hulls\n",
    "plot_clusters_with_hulls(PF3, PF3_km3)"
   ]
  },
  {
   "cell_type": "code",
   "execution_count": 15,
   "id": "3426236d",
   "metadata": {},
   "outputs": [
    {
     "name": "stdout",
     "output_type": "stream",
     "text": [
      "   k  iter_converged      distsum\n",
      "0  2               2  3726.913482\n",
      "1  3               2   948.280802\n",
      "2  4               3   840.054549\n",
      "3  5               8   729.515615\n",
      "4  6               8   630.919506\n",
      "5  7               6   553.748937\n",
      "6  8              10   479.199822\n"
     ]
    }
   ],
   "source": [
    "import numpy as np\n",
    "import pandas as pd\n",
    "from sklearn.datasets import make_blobs\n",
    "from sklearn.cluster import KMeans\n",
    "\n",
    "# Set a random seed for reproducibility\n",
    "np.random.seed(1234)\n",
    "\n",
    "# Generate synthetic data similar to the R function priceFeature\n",
    "n_samples = 500\n",
    "n_clusters = 3\n",
    "PF3, _ = make_blobs(n_samples=n_samples, centers=n_clusters, random_state=1234)\n",
    "\n",
    "# Initialize a list to store results\n",
    "results = []\n",
    "\n",
    "# Loop over the range of k from 2 to 8\n",
    "for k in range(2, 9):\n",
    "    kmeans = KMeans(n_clusters=k, n_init=10, random_state=1234)\n",
    "    kmeans.fit(PF3)\n",
    "    \n",
    "    # Store the number of iterations and the inertia (sum of distances)\n",
    "    results.append({\n",
    "        'k': k,\n",
    "        'iter_converged': kmeans.n_iter_,\n",
    "        'distsum': kmeans.inertia_\n",
    "    })\n",
    "\n",
    "# Convert results to a DataFrame for better visualization\n",
    "results_df = pd.DataFrame(results)\n",
    "\n",
    "# Display the results\n",
    "print(results_df)"
   ]
  },
  {
   "cell_type": "code",
   "execution_count": 16,
   "id": "a9905fb6",
   "metadata": {},
   "outputs": [
    {
     "name": "stdout",
     "output_type": "stream",
     "text": [
      "   k  iter_converged     distsum\n",
      "0  2              11  180.088599\n",
      "1  3              13  157.751337\n",
      "2  4              20  140.308987\n",
      "3  5              25  127.656429\n",
      "4  6              23  119.349992\n",
      "5  7              25  109.833415\n",
      "6  8              16  103.188419\n"
     ]
    }
   ],
   "source": [
    "import numpy as np\n",
    "import pandas as pd\n",
    "from sklearn.cluster import KMeans\n",
    "\n",
    "# Set a random seed for reproducibility\n",
    "np.random.seed(1234)\n",
    "\n",
    "# Assuming 'risk' is your dataset, for example, we can create a synthetic dataset\n",
    "# Replace this with your actual dataset\n",
    "# risk = pd.read_csv('your_data.csv')  # Uncomment this line to load your dataset\n",
    "\n",
    "# For demonstration, let's create a synthetic dataset\n",
    "n_samples = 500\n",
    "n_features = 5  # Adjust based on your actual data\n",
    "risk = np.random.rand(n_samples, n_features)\n",
    "\n",
    "# Initialize a list to store results\n",
    "results = []\n",
    "\n",
    "# Loop over the range of k from 2 to 8\n",
    "for k in range(2, 9):\n",
    "    kmeans = KMeans(n_clusters=k, n_init=10, random_state=1234)\n",
    "    kmeans.fit(risk)\n",
    "    \n",
    "    # Store the number of iterations and the inertia (sum of distances)\n",
    "    results.append({\n",
    "        'k': k,\n",
    "        'iter_converged': kmeans.n_iter_,\n",
    "        'distsum': kmeans.inertia_\n",
    "    })\n",
    "\n",
    "# Convert results to a DataFrame for better visualization\n",
    "results_df = pd.DataFrame(results)\n",
    "\n",
    "# Display the results\n",
    "print(results_df)"
   ]
  },
  {
   "cell_type": "code",
   "execution_count": 17,
   "id": "9c4d2940",
   "metadata": {},
   "outputs": [
    {
     "data": {
      "image/png": "[encoded data removed]",
      "text/plain": [
       "<Figure size 432x288 with 1 Axes>"
      ]
     },
     "metadata": {
      "needs_background": "light"
     },
     "output_type": "display_data"
    }
   ],
   "source": [
    "import matplotlib.pyplot as plt\n",
    "\n",
    "# Assuming risk_km28 is a dictionary or a similar structure\n",
    "risk_km28 = {\n",
    "    \"2\": [10, 20, 15, 25]  # Example data; replace with actual data\n",
    "}\n",
    "\n",
    "# Create a bar chart\n",
    "plt.bar(range(len(risk_km28[\"2\"])), risk_km28[\"2\"])\n",
    "plt.xlabel('Categories')  # Label for x-axis\n",
    "plt.ylabel('Values')      # Label for y-axis\n",
    "plt.title('Bar Chart for risk.km28[[\"2\"]]')  # Title of the chart\n",
    "plt.xticks(range(len(risk_km28[\"2\"])), ['A', 'B', 'C', 'D'])  # Example category labels\n",
    "plt.show()"
   ]
  },
  {
   "cell_type": "code",
   "execution_count": 20,
   "id": "d2973db6",
   "metadata": {},
   "outputs": [
    {
     "name": "stdout",
     "output_type": "stream",
     "text": [
      "Requirement already satisfied: minisom in c:\\users\\rahul\\anaconda3\\lib\\site-packages (2.3.3)\n"
     ]
    }
   ],
   "source": [
    "!pip install minisom"
   ]
  },
  {
   "cell_type": "code",
   "execution_count": 22,
   "id": "6566bc0d",
   "metadata": {},
   "outputs": [
    {
     "name": "stderr",
     "output_type": "stream",
     "text": [
      "Clipping input data to the valid range for imshow with RGB data ([0..1] for floats or [0..255] for integers).\n"
     ]
    },
    {
     "data": {
      "image/png": "[encoded data removed]",
      "text/plain": [
       "<Figure size 504x504 with 2 Axes>"
      ]
     },
     "metadata": {
      "needs_background": "light"
     },
     "output_type": "display_data"
    }
   ],
   "source": [
    "import numpy as np\n",
    "import matplotlib.pyplot as plt\n",
    "from minisom import MiniSom\n",
    "\n",
    "# Set random seed for reproducibility\n",
    "np.random.seed(1234)\n",
    "\n",
    "# Example data for 'risk'; replace this with your actual data\n",
    "risk = np.random.rand(25, 3)  # 25 samples with 3 features each\n",
    "\n",
    "# Create a SOM grid of size 5x5\n",
    "som_size = (5, 5)\n",
    "som = MiniSom(som_size[0], som_size[1], input_len=risk.shape[1], random_seed=1234)\n",
    "\n",
    "# Train the SOM with the data\n",
    "som.train(risk, 100)  # 100 iterations\n",
    "\n",
    "# Plotting the SOM\n",
    "plt.figure(figsize=(7, 7))\n",
    "plt.title('Self-Organizing Map')\n",
    "weights = som.get_weights()\n",
    "plt.imshow(weights, interpolation='nearest')\n",
    "plt.colorbar()\n",
    "plt.show()"
   ]
  },
  {
   "cell_type": "code",
   "execution_count": 23,
   "id": "b85b17ba",
   "metadata": {},
   "outputs": [
    {
     "name": "stdout",
     "output_type": "stream",
     "text": [
      "Best inertia: 6.215727018796159\n",
      "Cluster centers:\n",
      " [[0.15043659 0.7268746  0.21102923 0.40096295 0.18703043]\n",
      " [0.82857994 0.7145497  0.84929961 0.67809051 0.80384958]\n",
      " [0.25921461 0.62725984 0.50050053 0.06791326 0.53552893]\n",
      " [0.19079885 0.34010843 0.41276274 0.98955729 0.23525901]\n",
      " [0.18326009 0.76601361 0.83944429 0.6842915  0.29525174]\n",
      " [0.81924413 0.50202859 0.5037421  0.05666767 0.26493014]\n",
      " [0.89778236 0.27354504 0.04915277 0.47887996 0.77809869]\n",
      " [0.84184612 0.70623319 0.51709564 0.89263889 0.78759936]\n",
      " [0.24783894 0.24335115 0.52295758 0.94049805 0.78908434]\n",
      " [0.79678445 0.9375064  0.68656341 0.65156261 0.18348704]\n",
      " [0.78884341 0.43556863 0.83114427 0.22886616 0.52550445]\n",
      " [0.57388255 0.25300684 0.36652369 0.78735116 0.20441589]\n",
      " [0.21582681 0.38966713 0.81985494 0.23681314 0.16610616]\n",
      " [0.14253974 0.65045584 0.49174149 0.79927826 0.63021648]\n",
      " [0.62499402 0.04220131 0.50045743 0.30586911 0.4189814 ]\n",
      " [0.58480811 0.22309181 0.13686081 0.26497543 0.39952185]\n",
      " [0.62814036 0.82498525 0.80931976 0.10068617 0.68039317]\n",
      " [0.24909439 0.99307699 0.33747104 0.59170567 0.55489069]\n",
      " [0.24231754 0.09688936 0.68626864 0.08166579 0.76226144]\n",
      " [0.03886817 0.23879177 0.12327761 0.63468099 0.41744245]\n",
      " [0.46593026 0.71101367 0.93638193 0.63160996 0.80842366]\n",
      " [0.65161109 0.24777745 0.82599367 0.71767722 0.5238735 ]\n",
      " [0.45923008 0.57114672 0.16954898 0.64246822 0.92022711]\n",
      " [0.69835903 0.13086755 0.87922726 0.40604464 0.92293648]\n",
      " [0.5599963  0.91683371 0.84396936 0.91681008 0.23114742]\n",
      " [0.32795134 0.35551311 0.80157609 0.8418653  0.4466732 ]\n",
      " [0.73344458 0.60214361 0.03061501 0.42072432 0.41158284]\n",
      " [0.78647706 0.50198625 0.25253598 0.12036691 0.8030099 ]\n",
      " [0.11167854 0.92216846 0.10400244 0.86448722 0.40483085]\n",
      " [0.22921056 0.69899982 0.92688215 0.93682781 0.81724009]]\n"
     ]
    }
   ],
   "source": [
    "import numpy as np\n",
    "from sklearn.cluster import KMeans\n",
    "\n",
    "# Set random seed for reproducibility\n",
    "np.random.seed(1234)\n",
    "\n",
    "# Assuming PF3 is your dataset (replace this with your actual data)\n",
    "# For example, let's create a random dataset with 100 samples and 5 features\n",
    "PF3 = np.random.rand(100, 5)\n",
    "\n",
    "# Perform KMeans clustering\n",
    "k = 30  # Number of clusters\n",
    "nrep = 10  # Number of repetitions\n",
    "best_kmeans = None\n",
    "best_inertia = float('inf')\n",
    "\n",
    "# Run KMeans multiple times to find the best clustering\n",
    "for _ in range(nrep):\n",
    "    kmeans = KMeans(n_clusters=k, random_state=1234)\n",
    "    kmeans.fit(PF3)\n",
    "    \n",
    "    # Check if this run has a better inertia (sum of squared distances to closest cluster center)\n",
    "    if kmeans.inertia_ < best_inertia:\n",
    "        best_inertia = kmeans.inertia_\n",
    "        best_kmeans = kmeans\n",
    "\n",
    "# best_kmeans now contains the best clustering result\n",
    "print(\"Best inertia:\", best_inertia)\n",
    "print(\"Cluster centers:\\n\", best_kmeans.cluster_centers_)"
   ]
  },
  {
   "cell_type": "code",
   "execution_count": 24,
   "id": "d4d1cf38",
   "metadata": {},
   "outputs": [
    {
     "data": {
      "image/png": "[encoded data removed]",
      "text/plain": [
       "<Figure size 720x576 with 2 Axes>"
      ]
     },
     "metadata": {
      "needs_background": "light"
     },
     "output_type": "display_data"
    }
   ],
   "source": [
    "import numpy as np\n",
    "import matplotlib.pyplot as plt\n",
    "from sklearn.cluster import KMeans\n",
    "\n",
    "# Set random seed for reproducibility\n",
    "np.random.seed(1234)\n",
    "\n",
    "# Assuming PF3 is your dataset (replace this with your actual data)\n",
    "PF3 = np.random.rand(100, 5)  # Example dataset with 100 samples and 5 features\n",
    "\n",
    "# Perform KMeans clustering\n",
    "k = 30  # Number of clusters\n",
    "nrep = 10  # Number of repetitions\n",
    "best_kmeans = None\n",
    "best_inertia = float('inf')\n",
    "\n",
    "# Run KMeans multiple times to find the best clustering\n",
    "for _ in range(nrep):\n",
    "    kmeans = KMeans(n_clusters=k, random_state=1234)\n",
    "    kmeans.fit(PF3)\n",
    "    \n",
    "    if kmeans.inertia_ < best_inertia:\n",
    "        best_inertia = kmeans.inertia_\n",
    "        best_kmeans = kmeans\n",
    "\n",
    "# Get cluster labels\n",
    "labels = best_kmeans.labels_\n",
    "\n",
    "# Plotting the results\n",
    "plt.figure(figsize=(10, 8))\n",
    "\n",
    "# Scatter plot for the first two features (you can change this based on your data)\n",
    "plt.scatter(PF3[:, 0], PF3[:, 1], c=labels, cmap='viridis', marker='o', edgecolor='k', s=50)\n",
    "plt.title('KMeans Clustering Results')\n",
    "plt.xlabel('Feature 1')\n",
    "plt.ylabel('Feature 2')\n",
    "plt.colorbar(label='Cluster Label')\n",
    "plt.grid(True)\n",
    "plt.show()"
   ]
  },
  {
   "cell_type": "code",
   "execution_count": 25,
   "id": "959a4186",
   "metadata": {},
   "outputs": [
    {
     "name": "stdout",
     "output_type": "stream",
     "text": [
      "Cluster Centers:\n",
      " [[0.15043659 0.7268746  0.21102923 0.40096295 0.18703043]\n",
      " [0.82857994 0.7145497  0.84929961 0.67809051 0.80384958]\n",
      " [0.25921461 0.62725984 0.50050053 0.06791326 0.53552893]\n",
      " [0.19079885 0.34010843 0.41276274 0.98955729 0.23525901]\n",
      " [0.18326009 0.76601361 0.83944429 0.6842915  0.29525174]\n",
      " [0.81924413 0.50202859 0.5037421  0.05666767 0.26493014]\n",
      " [0.89778236 0.27354504 0.04915277 0.47887996 0.77809869]\n",
      " [0.84184612 0.70623319 0.51709564 0.89263889 0.78759936]\n",
      " [0.24783894 0.24335115 0.52295758 0.94049805 0.78908434]\n",
      " [0.79678445 0.9375064  0.68656341 0.65156261 0.18348704]\n",
      " [0.78884341 0.43556863 0.83114427 0.22886616 0.52550445]\n",
      " [0.57388255 0.25300684 0.36652369 0.78735116 0.20441589]\n",
      " [0.21582681 0.38966713 0.81985494 0.23681314 0.16610616]\n",
      " [0.14253974 0.65045584 0.49174149 0.79927826 0.63021648]\n",
      " [0.62499402 0.04220131 0.50045743 0.30586911 0.4189814 ]\n",
      " [0.58480811 0.22309181 0.13686081 0.26497543 0.39952185]\n",
      " [0.62814036 0.82498525 0.80931976 0.10068617 0.68039317]\n",
      " [0.24909439 0.99307699 0.33747104 0.59170567 0.55489069]\n",
      " [0.24231754 0.09688936 0.68626864 0.08166579 0.76226144]\n",
      " [0.03886817 0.23879177 0.12327761 0.63468099 0.41744245]\n",
      " [0.46593026 0.71101367 0.93638193 0.63160996 0.80842366]\n",
      " [0.65161109 0.24777745 0.82599367 0.71767722 0.5238735 ]\n",
      " [0.45923008 0.57114672 0.16954898 0.64246822 0.92022711]\n",
      " [0.69835903 0.13086755 0.87922726 0.40604464 0.92293648]\n",
      " [0.5599963  0.91683371 0.84396936 0.91681008 0.23114742]\n",
      " [0.32795134 0.35551311 0.80157609 0.8418653  0.4466732 ]\n",
      " [0.73344458 0.60214361 0.03061501 0.42072432 0.41158284]\n",
      " [0.78647706 0.50198625 0.25253598 0.12036691 0.8030099 ]\n",
      " [0.11167854 0.92216846 0.10400244 0.86448722 0.40483085]\n",
      " [0.22921056 0.69899982 0.92688215 0.93682781 0.81724009]]\n",
      "\n",
      "Cluster Sizes:\n",
      " 4     6\n",
      "21    6\n",
      "22    5\n",
      "16    5\n",
      "12    5\n",
      "18    4\n",
      "2     4\n",
      "8     4\n",
      "1     4\n",
      "25    4\n",
      "0     3\n",
      "15    3\n",
      "3     3\n",
      "11    3\n",
      "26    3\n",
      "6     3\n",
      "7     3\n",
      "27    3\n",
      "13    3\n",
      "17    3\n",
      "9     3\n",
      "19    3\n",
      "10    3\n",
      "29    2\n",
      "20    2\n",
      "5     2\n",
      "14    2\n",
      "24    2\n",
      "23    2\n",
      "28    2\n",
      "dtype: int64\n"
     ]
    }
   ],
   "source": [
    "import numpy as np\n",
    "import pandas as pd\n",
    "from sklearn.cluster import KMeans\n",
    "\n",
    "# Set random seed for reproducibility\n",
    "np.random.seed(1234)\n",
    "\n",
    "# Assuming PF3 is your dataset (replace this with your actual data)\n",
    "PF3 = np.random.rand(100, 5)  # Example dataset with 100 samples and 5 features\n",
    "\n",
    "# Perform KMeans clustering\n",
    "k = 30  # Number of clusters\n",
    "nrep = 10  # Number of repetitions\n",
    "best_kmeans = None\n",
    "best_inertia = float('inf')\n",
    "\n",
    "# Run KMeans multiple times to find the best clustering\n",
    "for _ in range(nrep):\n",
    "    kmeans = KMeans(n_clusters=k, random_state=1234)\n",
    "    kmeans.fit(PF3)\n",
    "    \n",
    "    if kmeans.inertia_ < best_inertia:\n",
    "        best_inertia = kmeans.inertia_\n",
    "        best_kmeans = kmeans\n",
    "\n",
    "# Get cluster centers (equivalent to parameters(PF3.k30))\n",
    "cluster_centers = best_kmeans.cluster_centers_\n",
    "\n",
    "# Get cluster labels\n",
    "labels = best_kmeans.labels_\n",
    "\n",
    "# Count sizes of each cluster (equivalent to table(clusters(PF3.k30))\n",
    "sizes = pd.Series(labels).value_counts()\n",
    "\n",
    "# Output the results\n",
    "print(\"Cluster Centers:\\n\", cluster_centers)\n",
    "print(\"\\nCluster Sizes:\\n\", sizes)"
   ]
  },
  {
   "cell_type": "code",
   "execution_count": 27,
   "id": "71c94bc4",
   "metadata": {},
   "outputs": [
    {
     "data": {
      "image/png": "[encoded data removed]",
      "text/plain": [
       "<Figure size 720x504 with 1 Axes>"
      ]
     },
     "metadata": {
      "needs_background": "light"
     },
     "output_type": "display_data"
    }
   ],
   "source": [
    "import numpy as np\n",
    "import pandas as pd\n",
    "from scipy.cluster.hierarchy import linkage, dendrogram\n",
    "from scipy.spatial.distance import pdist\n",
    "import matplotlib.pyplot as plt\n",
    "\n",
    "# Assuming PF3.k30.cent is your cluster centers and sizes is the count of each cluster\n",
    "# Replace these with your actual data\n",
    "PF3_k30_cent = np.random.rand(30, 5)  # Example cluster centers (30 clusters, 5 features)\n",
    "sizes = pd.Series(np.random.randint(1, 10, size=30)).value_counts()  # Example sizes\n",
    "\n",
    "# Calculate the distance matrix\n",
    "distance_matrix = pdist(PF3_k30_cent)\n",
    "\n",
    "# Perform hierarchical clustering\n",
    "hc = linkage(distance_matrix, method='centroid')\n",
    "\n",
    "# Plot the dendrogram\n",
    "plt.figure(figsize=(10, 7))\n",
    "dendrogram(hc)\n",
    "plt.title('Hierarchical Clustering Dendrogram')\n",
    "plt.xlabel('Cluster Index')\n",
    "plt.ylabel('Distance')\n",
    "plt.show()"
   ]
  },
  {
   "cell_type": "code",
   "execution_count": 28,
   "id": "d4103657",
   "metadata": {},
   "outputs": [
    {
     "name": "stdout",
     "output_type": "stream",
     "text": [
      "0    14\n",
      "1    10\n",
      "2     6\n",
      "dtype: int64\n"
     ]
    }
   ],
   "source": [
    "import numpy as np\n",
    "import pandas as pd\n",
    "from sklearn.cluster import AgglomerativeClustering\n",
    "\n",
    "# Assuming PF3.k30.cent is your cluster centers and sizes is the count of each cluster\n",
    "# Replace these with your actual data\n",
    "PF3_k30_cent = np.random.rand(30, 5)  # Example cluster centers (30 clusters, 5 features)\n",
    "clusters = np.random.randint(0, 30, size=1000)  # Example cluster assignments for 1000 samples\n",
    "\n",
    "# Perform hierarchical clustering with 3 clusters\n",
    "model = AgglomerativeClustering(n_clusters=3)\n",
    "PF3_ts3 = model.fit_predict(PF3_k30_cent)\n",
    "\n",
    "# Create a frequency table\n",
    "frequency_table = pd.Series(PF3_ts3).value_counts().sort_index()\n",
    "\n",
    "# Display the frequency table\n",
    "print(frequency_table)"
   ]
  },
  {
   "cell_type": "code",
   "execution_count": 29,
   "id": "39290205",
   "metadata": {},
   "outputs": [
    {
     "name": "stdout",
     "output_type": "stream",
     "text": [
      "['alpine skiing', 'snowboarding', 'ski touring', 'sleigh riding', 'horseback riding', 'cross-country skiing', 'carving', 'ice-skating', 'tennis', 'going to a spa', 'using health facilities', 'hiking', 'going for walks', 'organized excursions', 'excursions', 'relaxing', 'going out in the evening', 'going to discos/bars', 'shopping', 'sight-seeing', 'museums', 'heurigen', 'tyrolean evenings', 'pool/sauna', 'theater/opera', 'concerts', 'local events']\n"
     ]
    }
   ],
   "source": [
    "import pandas as pd\n",
    "\n",
    "# Create a DataFrame to simulate the winter activities data\n",
    "data = {\n",
    "    \"alpine skiing\": [],\n",
    "    \"snowboarding\": [],\n",
    "    \"ski touring\": [],\n",
    "    \"sleigh riding\": [],\n",
    "    \"horseback riding\": [],\n",
    "    \"cross-country skiing\": [],\n",
    "    \"carving\": [],\n",
    "    \"ice-skating\": [],\n",
    "    \"tennis\": [],\n",
    "    \"going to a spa\": [],\n",
    "    \"using health facilities\": [],\n",
    "    \"hiking\": [],\n",
    "    \"going for walks\": [],\n",
    "    \"organized excursions\": [],\n",
    "    \"excursions\": [],\n",
    "    \"relaxing\": [],\n",
    "    \"going out in the evening\": [],\n",
    "    \"going to discos/bars\": [],\n",
    "    \"shopping\": [],\n",
    "    \"sight-seeing\": [],\n",
    "    \"museums\": [],\n",
    "    \"heurigen\": [],\n",
    "    \"tyrolean evenings\": [],\n",
    "    \"pool/sauna\": [],\n",
    "    \"theater/opera\": [],\n",
    "    \"concerts\": [],\n",
    "    \"local events\": []\n",
    "}\n",
    "\n",
    "# Create the DataFrame\n",
    "winter_activities = pd.DataFrame(data)\n",
    "\n",
    "# Get the column names\n",
    "column_names = winter_activities.columns.tolist()\n",
    "\n",
    "# Display the column names\n",
    "print(column_names)"
   ]
  },
  {
   "cell_type": "code",
   "execution_count": 31,
   "id": "7ecfa44c",
   "metadata": {},
   "outputs": [
    {
     "name": "stdout",
     "output_type": "stream",
     "text": [
      "[5 3 4 8 9 3 5 6 2 9 6 0 5 9 8 0 0 7 0 2 7 1 0 4 3 3 0 5 6 2 6 6 2 1 5 6 9\n",
      " 2 2 2 0 4 4 8 0 8 4 8 6 2 0 0 0 6 3 0 7 7 5 7 1 4 5 0 1 1 5 7 3 4 5 7 2 0\n",
      " 5 9 4 8 1 3 6 5 0 1 3 0 5 4 3 0 7 5 2 3 1 1 0 2 1 4]\n"
     ]
    }
   ],
   "source": [
    "import numpy as np\n",
    "import pandas as pd\n",
    "from sklearn.cluster import AgglomerativeClustering\n",
    "\n",
    "# Set the random seed for reproducibility\n",
    "np.random.seed(1234)\n",
    "\n",
    "# Create a DataFrame to simulate the winter activities data\n",
    "data = {\n",
    "    \"alpine skiing\": np.random.rand(100),\n",
    "    \"snowboarding\": np.random.rand(100),\n",
    "    \"ski touring\": np.random.rand(100),\n",
    "    \"sleigh riding\": np.random.rand(100),\n",
    "    \"horseback riding\": np.random.rand(100),\n",
    "    \"cross-country skiing\": np.random.rand(100),\n",
    "    \"carving\": np.random.rand(100),\n",
    "    \"ice-skating\": np.random.rand(100),\n",
    "    \"tennis\": np.random.rand(100),\n",
    "    \"going to a spa\": np.random.rand(100),\n",
    "    \"using health facilities\": np.random.rand(100),\n",
    "    \"hiking\": np.random.rand(100),\n",
    "    \"going for walks\": np.random.rand(100),\n",
    "    \"organized excursions\": np.random.rand(100),\n",
    "    \"excursions\": np.random.rand(100),\n",
    "    \"relaxing\": np.random.rand(100),\n",
    "    \"going out in the evening\": np.random.rand(100),\n",
    "    \"going to discos/bars\": np.random.rand(100),\n",
    "    \"shopping\": np.random.rand(100),\n",
    "    \"sight-seeing\": np.random.rand(100),\n",
    "    \"museums\": np.random.rand(100),\n",
    "    \"heurigen\": np.random.rand(100),\n",
    "    \"tyrolean evenings\": np.random.rand(100),\n",
    "    \"pool/sauna\": np.random.rand(100),\n",
    "    \"theater/opera\": np.random.rand(100),\n",
    "    \"concerts\": np.random.rand(100),\n",
    "    \"local events\": np.random.rand(100)\n",
    "}\n",
    "\n",
    "# Create the DataFrame\n",
    "winterActiv = pd.DataFrame(data)\n",
    "\n",
    "# Perform hierarchical clustering\n",
    "n_clusters = 10  # Number of clusters\n",
    "model = AgglomerativeClustering(n_clusters=n_clusters)\n",
    "winter_bc = model.fit(winterActiv)\n",
    "\n",
    "# Display the result (cluster labels)\n",
    "print(winter_bc.labels_)"
   ]
  },
  {
   "cell_type": "code",
   "execution_count": 32,
   "id": "54026bb4",
   "metadata": {},
   "outputs": [
    {
     "data": {
      "image/png": "[encoded data removed]",
      "text/plain": [
       "<Figure size 720x432 with 1 Axes>"
      ]
     },
     "metadata": {
      "needs_background": "light"
     },
     "output_type": "display_data"
    }
   ],
   "source": [
    "import numpy as np\n",
    "import pandas as pd\n",
    "import matplotlib.pyplot as plt\n",
    "\n",
    "# Assuming winter_bc.labels_ contains the cluster labels from the clustering model\n",
    "# For demonstration, let's create some dummy cluster labels\n",
    "# Replace this with your actual clustering results\n",
    "np.random.seed(1234)\n",
    "winter_bc_labels = np.random.randint(0, 5, size=100)  # Simulating 100 data points clustered into 5 groups\n",
    "\n",
    "# Count the occurrences of each cluster\n",
    "cluster_counts = pd.Series(winter_bc_labels).value_counts().sort_index()\n",
    "\n",
    "# Create a bar chart\n",
    "plt.figure(figsize=(10, 6))\n",
    "plt.bar(cluster_counts.index, cluster_counts.values, color='skyblue')\n",
    "plt.xlabel('Cluster')\n",
    "plt.ylabel('Number of Members')\n",
    "plt.title('Bar Chart of Cluster Memberships (k=5)')\n",
    "plt.xticks(cluster_counts.index)  # Set x-ticks to cluster indices\n",
    "plt.show()"
   ]
  },
  {
   "cell_type": "code",
   "execution_count": 33,
   "id": "cfc4ab2a",
   "metadata": {},
   "outputs": [
    {
     "data": {
      "image/png": "[encoded data removed]",
      "text/plain": [
       "<Figure size 720x432 with 1 Axes>"
      ]
     },
     "metadata": {
      "needs_background": "light"
     },
     "output_type": "display_data"
    }
   ],
   "source": [
    "import numpy as np\n",
    "import pandas as pd\n",
    "import seaborn as sns\n",
    "import matplotlib.pyplot as plt\n",
    "\n",
    "# Simulating some data for demonstration\n",
    "# Replace this with your actual data and clustering results\n",
    "np.random.seed(1234)\n",
    "n_samples = 100\n",
    "n_clusters = 5\n",
    "\n",
    "# Simulating cluster labels\n",
    "clusters = np.random.randint(0, n_clusters, size=n_samples)\n",
    "\n",
    "# Simulating a variable to plot (e.g., scores or measurements)\n",
    "data_values = np.random.rand(n_samples) * 100  # Random values between 0 and 100\n",
    "\n",
    "# Creating a DataFrame\n",
    "data = pd.DataFrame({\n",
    "    'Cluster': clusters,\n",
    "    'Value': data_values\n",
    "})\n",
    "\n",
    "# Create a boxplot\n",
    "plt.figure(figsize=(10, 6))\n",
    "sns.boxplot(x='Cluster', y='Value', data=data)\n",
    "plt.title('Boxplot of Values by Cluster (k=5)')\n",
    "plt.xlabel('Cluster')\n",
    "plt.ylabel('Value')\n",
    "plt.xticks(range(n_clusters))  # Set x-ticks to cluster indices\n",
    "plt.show()"
   ]
  },
  {
   "cell_type": "code",
   "execution_count": 34,
   "id": "674abaac",
   "metadata": {},
   "outputs": [
    {
     "name": "stdout",
     "output_type": "stream",
     "text": [
      "Requirement already satisfied: numpy in c:\\users\\rahul\\anaconda3\\lib\\site-packages (1.20.3)\n",
      "Requirement already satisfied: pandas in c:\\users\\rahul\\anaconda3\\lib\\site-packages (1.3.4)\n",
      "Requirement already satisfied: seaborn in c:\\users\\rahul\\anaconda3\\lib\\site-packages (0.11.2)\n",
      "Requirement already satisfied: matplotlib in c:\\users\\rahul\\anaconda3\\lib\\site-packages (3.4.3)\n",
      "Requirement already satisfied: pytz>=2017.3 in c:\\users\\rahul\\anaconda3\\lib\\site-packages (from pandas) (2021.3)\n",
      "Requirement already satisfied: python-dateutil>=2.7.3 in c:\\users\\rahul\\anaconda3\\lib\\site-packages (from pandas) (2.8.2)\n",
      "Requirement already satisfied: scipy>=1.0 in c:\\users\\rahul\\anaconda3\\lib\\site-packages (from seaborn) (1.7.1)\n",
      "Requirement already satisfied: cycler>=0.10 in c:\\users\\rahul\\anaconda3\\lib\\site-packages (from matplotlib) (0.10.0)\n",
      "Requirement already satisfied: pillow>=6.2.0 in c:\\users\\rahul\\anaconda3\\lib\\site-packages (from matplotlib) (8.4.0)\n",
      "Requirement already satisfied: kiwisolver>=1.0.1 in c:\\users\\rahul\\anaconda3\\lib\\site-packages (from matplotlib) (1.3.1)\n",
      "Requirement already satisfied: pyparsing>=2.2.1 in c:\\users\\rahul\\anaconda3\\lib\\site-packages (from matplotlib) (3.0.4)\n",
      "Requirement already satisfied: six in c:\\users\\rahul\\anaconda3\\lib\\site-packages (from cycler>=0.10->matplotlib) (1.16.0)\n",
      "Note: you may need to restart the kernel to use updated packages.\n"
     ]
    }
   ],
   "source": [
    "pip install numpy pandas seaborn matplotlib"
   ]
  },
  {
   "cell_type": "code",
   "execution_count": 35,
   "id": "1cdce5d3",
   "metadata": {},
   "outputs": [
    {
     "name": "stdout",
     "output_type": "stream",
     "text": [
      "   Feature1  Feature2  Cluster\n",
      "0 -6.524120  2.337414        2\n",
      "1  5.321557 -4.600313        0\n",
      "2  3.789086 -5.451456        0\n",
      "3 -5.135810  0.041722        2\n",
      "4 -4.786614  2.419715        2\n"
     ]
    }
   ],
   "source": [
    "import numpy as np\n",
    "import pandas as pd\n",
    "from sklearn.datasets import make_blobs\n",
    "from sklearn.cluster import KMeans\n",
    "\n",
    "# Set the random seed\n",
    "np.random.seed(1234)\n",
    "\n",
    "# Generate synthetic data similar to what priceFeature might produce\n",
    "# Here, we create 500 samples with 3 clusters\n",
    "n_samples = 500\n",
    "n_clusters = 3\n",
    "X, _ = make_blobs(n_samples=n_samples, centers=n_clusters, cluster_std=1.0, random_state=1234)\n",
    "\n",
    "# Convert to DataFrame for easier handling\n",
    "price_feature_df = pd.DataFrame(X, columns=['Feature1', 'Feature2'])\n",
    "\n",
    "# Perform clustering using KMeans (similar to flexclust)\n",
    "kmeans = KMeans(n_clusters=n_clusters, random_state=1234)\n",
    "price_feature_df['Cluster'] = kmeans.fit_predict(X)\n",
    "\n",
    "# Display the first few rows of the DataFrame\n",
    "print(price_feature_df.head())"
   ]
  },
  {
   "cell_type": "code",
   "execution_count": 36,
   "id": "19c6c217",
   "metadata": {},
   "outputs": [
    {
     "name": "stdout",
     "output_type": "stream",
     "text": [
      "Model with 2 components:\n",
      "  Means: [[0.27253707 0.50213953]\n",
      " [0.76615134 0.5321231 ]]\n",
      "  Covariances: [[[ 0.03017543 -0.00183743]\n",
      "  [-0.00183743  0.08674529]]\n",
      "\n",
      " [[ 0.02428183  0.00484597]\n",
      "  [ 0.00484597  0.08367686]]]\n",
      "  Weights: [0.5360318 0.4639682]\n",
      "\n",
      "Model with 3 components:\n",
      "  Means: [[0.34201818 0.20647502]\n",
      " [0.31207615 0.72527934]\n",
      " [0.81531125 0.564989  ]]\n",
      "  Covariances: [[[ 0.05008986 -0.00702211]\n",
      "  [-0.00702211  0.01850999]]\n",
      "\n",
      " [[ 0.03585939  0.00057706]\n",
      "  [ 0.00057706  0.02743925]]\n",
      "\n",
      " [[ 0.0155638   0.00184095]\n",
      "  [ 0.00184095  0.07361232]]]\n",
      "  Weights: [0.29233092 0.34853423 0.35913485]\n",
      "\n",
      "Model with 4 components:\n",
      "  Means: [[0.23479677 0.22029194]\n",
      " [0.28896867 0.73162079]\n",
      " [0.79728419 0.73172588]\n",
      " [0.71054474 0.24095206]]\n",
      "  Covariances: [[[ 0.02697481 -0.0070084 ]\n",
      "  [-0.0070084   0.0211831 ]]\n",
      "\n",
      " [[ 0.02995555 -0.00037512]\n",
      "  [-0.00037512  0.02648623]]\n",
      "\n",
      " [[ 0.01930588  0.00254007]\n",
      "  [ 0.00254007  0.02573748]]\n",
      "\n",
      " [[ 0.03094567 -0.00137097]\n",
      "  [-0.00137097  0.02115747]]]\n",
      "  Weights: [0.21059995 0.31120367 0.25826968 0.21992669]\n",
      "\n",
      "Model with 5 components:\n",
      "  Means: [[0.08457505 0.42121126]\n",
      " [0.42743722 0.70121003]\n",
      " [0.87926016 0.74827194]\n",
      " [0.87826989 0.1830324 ]\n",
      " [0.46650846 0.19345396]]\n",
      "  Covariances: [[[ 3.09001700e-03  9.45254414e-05]\n",
      "  [ 9.45254414e-05  5.47680883e-02]]\n",
      "\n",
      " [[ 4.44325613e-02 -1.01326387e-02]\n",
      "  [-1.01326387e-02  3.28746216e-02]]\n",
      "\n",
      " [[ 5.66569285e-03 -1.68311473e-03]\n",
      "  [-1.68311473e-03  2.60799431e-02]]\n",
      "\n",
      " [[ 5.65571442e-03  7.86933649e-04]\n",
      "  [ 7.86933649e-04  1.10489612e-02]]\n",
      "\n",
      " [[ 3.50955707e-02  4.00885386e-03]\n",
      "  [ 4.00885386e-03  1.75979759e-02]]]\n",
      "  Weights: [0.13432814 0.38945928 0.17128827 0.07497417 0.22995014]\n",
      "\n",
      "Model with 6 components:\n",
      "  Means: [[0.09132949 0.43510956]\n",
      " [0.30821869 0.85830058]\n",
      " [0.50580525 0.53038019]\n",
      " [0.86003851 0.21027551]\n",
      " [0.46641047 0.09625342]\n",
      " [0.89192018 0.74006341]]\n",
      "  Covariances: [[[ 0.00359235  0.001076  ]\n",
      "  [ 0.001076    0.05271857]]\n",
      "\n",
      " [[ 0.03316722  0.00131702]\n",
      "  [ 0.00131702  0.00885155]]\n",
      "\n",
      " [[ 0.03599745  0.01214728]\n",
      "  [ 0.01214728  0.04484041]]\n",
      "\n",
      " [[ 0.0075164  -0.00165678]\n",
      "  [-0.00165678  0.01338944]]\n",
      "\n",
      " [[ 0.0330093   0.00256069]\n",
      "  [ 0.00256069  0.00448942]]\n",
      "\n",
      " [[ 0.00437592 -0.00143599]\n",
      "  [-0.00143599  0.02616965]]]\n",
      "  Weights: [0.14645066 0.14708238 0.34567368 0.08902541 0.11974932 0.15201854]\n",
      "\n",
      "Model with 7 components:\n",
      "  Means: [[0.10144147 0.27656169]\n",
      " [0.48903392 0.84832211]\n",
      " [0.51324295 0.51759109]\n",
      " [0.86804518 0.18630288]\n",
      " [0.46353379 0.14814079]\n",
      " [0.87979599 0.75229962]\n",
      " [0.13348916 0.75203607]]\n",
      "  Covariances: [[[ 0.00483713 -0.00066256]\n",
      "  [-0.00066256  0.02060688]]\n",
      "\n",
      " [[ 0.02199706 -0.00417312]\n",
      "  [-0.00417312  0.00982127]]\n",
      "\n",
      " [[ 0.03460658 -0.0058191 ]\n",
      "  [-0.0058191   0.01621687]]\n",
      "\n",
      " [[ 0.00650717  0.00048218]\n",
      "  [ 0.00048218  0.0110996 ]]\n",
      "\n",
      " [[ 0.021076    0.00122321]\n",
      "  [ 0.00122321  0.01121054]]\n",
      "\n",
      " [[ 0.00557025 -0.00173009]\n",
      "  [-0.00173009  0.02465502]]\n",
      "\n",
      " [[ 0.00709473 -0.00138195]\n",
      "  [-0.00138195  0.01996415]]]\n",
      "  Weights: [0.11459078 0.13447504 0.20848523 0.08562867 0.16090931 0.17251663\n",
      " 0.12339433]\n",
      "\n",
      "Model with 8 components:\n",
      "  Means: [[0.10092496 0.27473098]\n",
      " [0.50324916 0.51458354]\n",
      " [0.12726647 0.75692179]\n",
      " [0.8700209  0.19032079]\n",
      " [0.86082702 0.91340265]\n",
      " [0.46551728 0.13591445]\n",
      " [0.48895381 0.8451476 ]\n",
      " [0.89320527 0.66407682]]\n",
      "  Covariances: [[[ 0.00475606 -0.00063352]\n",
      "  [-0.00063352  0.02016296]]\n",
      "\n",
      " [[ 0.03639337 -0.00512522]\n",
      "  [-0.00512522  0.01929396]]\n",
      "\n",
      " [[ 0.0063689  -0.00099847]\n",
      "  [-0.00099847  0.01880122]]\n",
      "\n",
      " [[ 0.00645929  0.00067663]\n",
      "  [ 0.00067663  0.01175726]]\n",
      "\n",
      " [[ 0.00847288 -0.00098149]\n",
      "  [-0.00098149  0.00353443]]\n",
      "\n",
      " [[ 0.02107798  0.00175814]\n",
      "  [ 0.00175814  0.00962028]]\n",
      "\n",
      " [[ 0.02359326 -0.00638509]\n",
      "  [-0.00638509  0.01003011]]\n",
      "\n",
      " [[ 0.00342154 -0.00061437]\n",
      "  [-0.00061437  0.01273579]]]\n",
      "  Weights: [0.11323805 0.23454049 0.11588725 0.08669246 0.06684745 0.1498827\n",
      " 0.13217073 0.10074086]\n",
      "\n"
     ]
    }
   ],
   "source": [
    "import numpy as np\n",
    "import pandas as pd\n",
    "from sklearn.mixture import GaussianMixture\n",
    "\n",
    "# Assuming PF3 is a dataset (e.g., a NumPy array or Pandas DataFrame)\n",
    "# For example, let's create a synthetic dataset with 500 samples and 2 features\n",
    "np.random.seed(1234)\n",
    "n_samples = 500\n",
    "X = np.random.rand(n_samples, 2)  # Replace this with your actual data\n",
    "\n",
    "# Fit a Gaussian Mixture Model with components ranging from 2 to 8\n",
    "n_components_range = range(2, 9)\n",
    "gmm_models = {}\n",
    "\n",
    "for n_components in n_components_range:\n",
    "    gmm = GaussianMixture(n_components=n_components, random_state=1234)\n",
    "    gmm.fit(X)\n",
    "    gmm_models[n_components] = gmm\n",
    "\n",
    "# Display the fitted models\n",
    "for n_components, model in gmm_models.items():\n",
    "    print(f\"Model with {n_components} components:\")\n",
    "    print(f\"  Means: {model.means_}\")\n",
    "    print(f\"  Covariances: {model.covariances_}\")\n",
    "    print(f\"  Weights: {model.weights_}\\n\")"
   ]
  },
  {
   "cell_type": "code",
   "execution_count": 38,
   "id": "fccce642",
   "metadata": {},
   "outputs": [
    {
     "name": "stdout",
     "output_type": "stream",
     "text": [
      "Best model:\n",
      "  Number of components: 5\n",
      "  Means: [[0.08457505 0.42121126]\n",
      " [0.42743722 0.70121003]\n",
      " [0.87926016 0.74827194]\n",
      " [0.87826989 0.1830324 ]\n",
      " [0.46650846 0.19345396]]\n",
      "  Covariances: [[[ 3.09001700e-03  9.45254414e-05]\n",
      "  [ 9.45254414e-05  5.47680883e-02]]\n",
      "\n",
      " [[ 4.44325613e-02 -1.01326387e-02]\n",
      "  [-1.01326387e-02  3.28746216e-02]]\n",
      "\n",
      " [[ 5.66569285e-03 -1.68311473e-03]\n",
      "  [-1.68311473e-03  2.60799431e-02]]\n",
      "\n",
      " [[ 5.65571442e-03  7.86933649e-04]\n",
      "  [ 7.86933649e-04  1.10489612e-02]]\n",
      "\n",
      " [[ 3.50955707e-02  4.00885386e-03]\n",
      "  [ 4.00885386e-03  1.75979759e-02]]]\n",
      "  Weights: [0.13432814 0.38945928 0.17128827 0.07497417 0.22995014]\n"
     ]
    }
   ],
   "source": [
    "import numpy as np\n",
    "from sklearn.mixture import GaussianMixture\n",
    "\n",
    "# Assuming PF3 is a dataset (e.g., a NumPy array or Pandas DataFrame)\n",
    "# For example, let's create a synthetic dataset with 500 samples and 2 features\n",
    "np.random.seed(1234)\n",
    "n_samples = 500\n",
    "X = np.random.rand(n_samples, 2)  # Replace this with your actual data\n",
    "\n",
    "# Fit a Gaussian Mixture Model with components ranging from 2 to 8\n",
    "n_components_range = range(2, 9)\n",
    "gmm_models = {}\n",
    "\n",
    "for n_components in n_components_range:\n",
    "    gmm = GaussianMixture(n_components=n_components, random_state=1234)\n",
    "    gmm.fit(X)\n",
    "    gmm_models[n_components] = gmm\n",
    "\n",
    "# Display the best model information based on BIC\n",
    "best_n_components = min(gmm_models, key=lambda k: gmm_models[k].bic(X))\n",
    "best_model = gmm_models[best_n_components]\n",
    "\n",
    "print(\"Best model:\")\n",
    "print(f\"  Number of components: {best_n_components}\")\n",
    "print(f\"  Means: {best_model.means_}\")\n",
    "print(f\"  Covariances: {best_model.covariances_}\")\n",
    "print(f\"  Weights: {best_model.weights_}\")"
   ]
  },
  {
   "cell_type": "code",
   "execution_count": 39,
   "id": "a5d28000",
   "metadata": {},
   "outputs": [
    {
     "data": {
      "image/png": "[encoded data removed]",
      "text/plain": [
       "<Figure size 720x432 with 1 Axes>"
      ]
     },
     "metadata": {
      "needs_background": "light"
     },
     "output_type": "display_data"
    }
   ],
   "source": [
    "import numpy as np\n",
    "import matplotlib.pyplot as plt\n",
    "from sklearn.mixture import GaussianMixture\n",
    "\n",
    "# Assuming PF3 is a dataset (e.g., a NumPy array or Pandas DataFrame)\n",
    "# For example, let's create a synthetic dataset with 500 samples and 2 features\n",
    "np.random.seed(1234)\n",
    "n_samples = 500\n",
    "X = np.random.rand(n_samples, 2)  # Replace this with your actual data\n",
    "\n",
    "# Fit a Gaussian Mixture Model with components ranging from 2 to 8\n",
    "n_components_range = range(2, 9)\n",
    "gmm_models = {}\n",
    "\n",
    "for n_components in n_components_range:\n",
    "    gmm = GaussianMixture(n_components=n_components, random_state=1234)\n",
    "    gmm.fit(X)\n",
    "    gmm_models[n_components] = gmm\n",
    "\n",
    "# Calculate uncertainty (e.g., using the BIC score)\n",
    "bic_scores = [gmm_models[n].bic(X) for n in n_components_range]\n",
    "\n",
    "# Plotting the uncertainty (BIC scores)\n",
    "plt.figure(figsize=(10, 6))\n",
    "plt.plot(n_components_range, bic_scores, marker='o')\n",
    "plt.title('Uncertainty Plot (BIC Scores)')\n",
    "plt.xlabel('Number of Components')\n",
    "plt.ylabel('BIC Score')\n",
    "plt.xticks(n_components_range)\n",
    "plt.grid()\n",
    "plt.show()"
   ]
  },
  {
   "cell_type": "code",
   "execution_count": 42,
   "id": "78971c78",
   "metadata": {},
   "outputs": [
    {
     "data": {
      "image/png": "[encoded data removed]",
      "text/plain": [
       "<Figure size 720x432 with 1 Axes>"
      ]
     },
     "metadata": {
      "needs_background": "light"
     },
     "output_type": "display_data"
    }
   ],
   "source": [
    "import statsmodels.api as sm\n",
    "import matplotlib.pyplot as plt\n",
    "import pandas as pd\n",
    "\n",
    "# Example: Creating a synthetic dataset\n",
    "# Replace this with your actual dataset\n",
    "data = {\n",
    "    'X1': [1, 2, 3, 4, 5],\n",
    "    'X2': [2, 3, 4, 5, 6],\n",
    "    'Y': [1, 2, 3, 4, 5]\n",
    "}\n",
    "df = pd.DataFrame(data)\n",
    "\n",
    "# Fit a model (e.g., OLS regression)\n",
    "X = df[['X1', 'X2']]\n",
    "Y = df['Y']\n",
    "X = sm.add_constant(X)  # Adds a constant term to the predictor\n",
    "model = sm.OLS(Y, X).fit()\n",
    "\n",
    "# Assign the fitted model to PF3_m28\n",
    "PF3_m28 = model\n",
    "\n",
    "# Plotting BIC\n",
    "plt.figure(figsize=(10, 6))\n",
    "plt.plot([PF3_m28.bic], marker='o')  # BIC is a single value for the model\n",
    "plt.title('BIC Plot')\n",
    "plt.xlabel('Model')\n",
    "plt.ylabel('BIC')\n",
    "plt.xticks([0], ['Model 1'])  # Adjust x-ticks for clarity\n",
    "plt.grid()\n",
    "plt.show()"
   ]
  },
  {
   "cell_type": "code",
   "execution_count": null,
   "id": "e8cbb07e",
   "metadata": {},
   "outputs": [],
   "source": []
  }
 ],
 "metadata": {
  "kernelspec": {
   "display_name": "Python 3 (ipykernel)",
   "language": "python",
   "name": "python3"
  },
  "language_info": {
   "codemirror_mode": {
    "name": "ipython",
    "version": 3
   },
   "file_extension": ".py",
   "mimetype": "text/x-python",
   "name": "python",
   "nbconvert_exporter": "python",
   "pygments_lexer": "ipython3",
   "version": "3.9.7"
  }
 },
 "nbformat": 4,
 "nbformat_minor": 5
}
